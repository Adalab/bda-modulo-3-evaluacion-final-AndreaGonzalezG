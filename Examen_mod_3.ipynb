{
 "cells": [
  {
   "cell_type": "markdown",
   "metadata": {},
   "source": [
    "### Fase 1: Exploración y Limpieza"
   ]
  },
  {
   "cell_type": "markdown",
   "metadata": {},
   "source": [
    "**1. Exploración Inicial**"
   ]
  },
  {
   "cell_type": "code",
   "execution_count": 1,
   "metadata": {},
   "outputs": [],
   "source": [
    "# importamos las librerías que necesitamos\n",
    "\n",
    "# Tratamiento de datos\n",
    "# -----------------------------------------------------------------------\n",
    "import pandas as pd\n",
    "import numpy as np\n",
    "\n",
    "# Libreria Regex para buscar patrones\n",
    "import re\n",
    "\n",
    "# Imputación de nulos usando métodos avanzados estadísticos\n",
    "# -----------------------------------------------------------------------\n",
    "from sklearn.impute import SimpleImputer\n",
    "from sklearn.experimental import enable_iterative_imputer\n",
    "from sklearn.impute import IterativeImputer\n",
    "from sklearn.impute import KNNImputer\n",
    "\n",
    "# Librerías de visualización\n",
    "# -----------------------------------------------------------------------\n",
    "import seaborn as sns\n",
    "import matplotlib.pyplot as plt\n",
    "# Configuración\n",
    "# -----------------------------------------------------------------------\n",
    "pd.set_option('display.max_columns', None) # para poder visualizar todas las columnas de los DataFrames"
   ]
  },
  {
   "cell_type": "markdown",
   "metadata": {},
   "source": [
    "`Lectura de archivos`"
   ]
  },
  {
   "cell_type": "code",
   "execution_count": 3,
   "metadata": {},
   "outputs": [
    {
     "data": {
      "text/html": [
       "<div>\n",
       "<style scoped>\n",
       "    .dataframe tbody tr th:only-of-type {\n",
       "        vertical-align: middle;\n",
       "    }\n",
       "\n",
       "    .dataframe tbody tr th {\n",
       "        vertical-align: top;\n",
       "    }\n",
       "\n",
       "    .dataframe thead th {\n",
       "        text-align: right;\n",
       "    }\n",
       "</style>\n",
       "<table border=\"1\" class=\"dataframe\">\n",
       "  <thead>\n",
       "    <tr style=\"text-align: right;\">\n",
       "      <th></th>\n",
       "      <th>Loyalty Number</th>\n",
       "      <th>Year</th>\n",
       "      <th>Month</th>\n",
       "      <th>Flights Booked</th>\n",
       "      <th>Flights with Companions</th>\n",
       "      <th>Total Flights</th>\n",
       "      <th>Distance</th>\n",
       "      <th>Points Accumulated</th>\n",
       "      <th>Points Redeemed</th>\n",
       "      <th>Dollar Cost Points Redeemed</th>\n",
       "    </tr>\n",
       "  </thead>\n",
       "  <tbody>\n",
       "    <tr>\n",
       "      <th>0</th>\n",
       "      <td>100018</td>\n",
       "      <td>2017</td>\n",
       "      <td>1</td>\n",
       "      <td>3</td>\n",
       "      <td>0</td>\n",
       "      <td>3</td>\n",
       "      <td>1521</td>\n",
       "      <td>152.0</td>\n",
       "      <td>0</td>\n",
       "      <td>0</td>\n",
       "    </tr>\n",
       "    <tr>\n",
       "      <th>1</th>\n",
       "      <td>100102</td>\n",
       "      <td>2017</td>\n",
       "      <td>1</td>\n",
       "      <td>10</td>\n",
       "      <td>4</td>\n",
       "      <td>14</td>\n",
       "      <td>2030</td>\n",
       "      <td>203.0</td>\n",
       "      <td>0</td>\n",
       "      <td>0</td>\n",
       "    </tr>\n",
       "    <tr>\n",
       "      <th>2</th>\n",
       "      <td>100140</td>\n",
       "      <td>2017</td>\n",
       "      <td>1</td>\n",
       "      <td>6</td>\n",
       "      <td>0</td>\n",
       "      <td>6</td>\n",
       "      <td>1200</td>\n",
       "      <td>120.0</td>\n",
       "      <td>0</td>\n",
       "      <td>0</td>\n",
       "    </tr>\n",
       "    <tr>\n",
       "      <th>3</th>\n",
       "      <td>100214</td>\n",
       "      <td>2017</td>\n",
       "      <td>1</td>\n",
       "      <td>0</td>\n",
       "      <td>0</td>\n",
       "      <td>0</td>\n",
       "      <td>0</td>\n",
       "      <td>0.0</td>\n",
       "      <td>0</td>\n",
       "      <td>0</td>\n",
       "    </tr>\n",
       "    <tr>\n",
       "      <th>4</th>\n",
       "      <td>100272</td>\n",
       "      <td>2017</td>\n",
       "      <td>1</td>\n",
       "      <td>0</td>\n",
       "      <td>0</td>\n",
       "      <td>0</td>\n",
       "      <td>0</td>\n",
       "      <td>0.0</td>\n",
       "      <td>0</td>\n",
       "      <td>0</td>\n",
       "    </tr>\n",
       "  </tbody>\n",
       "</table>\n",
       "</div>"
      ],
      "text/plain": [
       "   Loyalty Number  Year  Month  Flights Booked  Flights with Companions  \\\n",
       "0          100018  2017      1               3                        0   \n",
       "1          100102  2017      1              10                        4   \n",
       "2          100140  2017      1               6                        0   \n",
       "3          100214  2017      1               0                        0   \n",
       "4          100272  2017      1               0                        0   \n",
       "\n",
       "   Total Flights  Distance  Points Accumulated  Points Redeemed  \\\n",
       "0              3      1521               152.0                0   \n",
       "1             14      2030               203.0                0   \n",
       "2              6      1200               120.0                0   \n",
       "3              0         0                 0.0                0   \n",
       "4              0         0                 0.0                0   \n",
       "\n",
       "   Dollar Cost Points Redeemed  \n",
       "0                            0  \n",
       "1                            0  \n",
       "2                            0  \n",
       "3                            0  \n",
       "4                            0  "
      ]
     },
     "execution_count": 3,
     "metadata": {},
     "output_type": "execute_result"
    }
   ],
   "source": [
    "#Apertura archivo 1\n",
    "df_cust_flight= pd.read_csv(\"customer_flight_activity.csv\")\n",
    "\n",
    "pd.set_option('display.max_columns', None)\n",
    "\n",
    "# 5 primeras filas del data frame\n",
    "\n",
    "df_cust_flight.head()"
   ]
  },
  {
   "cell_type": "code",
   "execution_count": 4,
   "metadata": {},
   "outputs": [
    {
     "data": {
      "text/html": [
       "<div>\n",
       "<style scoped>\n",
       "    .dataframe tbody tr th:only-of-type {\n",
       "        vertical-align: middle;\n",
       "    }\n",
       "\n",
       "    .dataframe tbody tr th {\n",
       "        vertical-align: top;\n",
       "    }\n",
       "\n",
       "    .dataframe thead th {\n",
       "        text-align: right;\n",
       "    }\n",
       "</style>\n",
       "<table border=\"1\" class=\"dataframe\">\n",
       "  <thead>\n",
       "    <tr style=\"text-align: right;\">\n",
       "      <th></th>\n",
       "      <th>Loyalty Number</th>\n",
       "      <th>Country</th>\n",
       "      <th>Province</th>\n",
       "      <th>City</th>\n",
       "      <th>Postal Code</th>\n",
       "      <th>Gender</th>\n",
       "      <th>Education</th>\n",
       "      <th>Salary</th>\n",
       "      <th>Marital Status</th>\n",
       "      <th>Loyalty Card</th>\n",
       "      <th>CLV</th>\n",
       "      <th>Enrollment Type</th>\n",
       "      <th>Enrollment Year</th>\n",
       "      <th>Enrollment Month</th>\n",
       "      <th>Cancellation Year</th>\n",
       "      <th>Cancellation Month</th>\n",
       "    </tr>\n",
       "  </thead>\n",
       "  <tbody>\n",
       "    <tr>\n",
       "      <th>0</th>\n",
       "      <td>480934</td>\n",
       "      <td>Canada</td>\n",
       "      <td>Ontario</td>\n",
       "      <td>Toronto</td>\n",
       "      <td>M2Z 4K1</td>\n",
       "      <td>Female</td>\n",
       "      <td>Bachelor</td>\n",
       "      <td>83236.0</td>\n",
       "      <td>Married</td>\n",
       "      <td>Star</td>\n",
       "      <td>3839.14</td>\n",
       "      <td>Standard</td>\n",
       "      <td>2016</td>\n",
       "      <td>2</td>\n",
       "      <td>NaN</td>\n",
       "      <td>NaN</td>\n",
       "    </tr>\n",
       "    <tr>\n",
       "      <th>1</th>\n",
       "      <td>549612</td>\n",
       "      <td>Canada</td>\n",
       "      <td>Alberta</td>\n",
       "      <td>Edmonton</td>\n",
       "      <td>T3G 6Y6</td>\n",
       "      <td>Male</td>\n",
       "      <td>College</td>\n",
       "      <td>NaN</td>\n",
       "      <td>Divorced</td>\n",
       "      <td>Star</td>\n",
       "      <td>3839.61</td>\n",
       "      <td>Standard</td>\n",
       "      <td>2016</td>\n",
       "      <td>3</td>\n",
       "      <td>NaN</td>\n",
       "      <td>NaN</td>\n",
       "    </tr>\n",
       "    <tr>\n",
       "      <th>2</th>\n",
       "      <td>429460</td>\n",
       "      <td>Canada</td>\n",
       "      <td>British Columbia</td>\n",
       "      <td>Vancouver</td>\n",
       "      <td>V6E 3D9</td>\n",
       "      <td>Male</td>\n",
       "      <td>College</td>\n",
       "      <td>NaN</td>\n",
       "      <td>Single</td>\n",
       "      <td>Star</td>\n",
       "      <td>3839.75</td>\n",
       "      <td>Standard</td>\n",
       "      <td>2014</td>\n",
       "      <td>7</td>\n",
       "      <td>2018.0</td>\n",
       "      <td>1.0</td>\n",
       "    </tr>\n",
       "    <tr>\n",
       "      <th>3</th>\n",
       "      <td>608370</td>\n",
       "      <td>Canada</td>\n",
       "      <td>Ontario</td>\n",
       "      <td>Toronto</td>\n",
       "      <td>P1W 1K4</td>\n",
       "      <td>Male</td>\n",
       "      <td>College</td>\n",
       "      <td>NaN</td>\n",
       "      <td>Single</td>\n",
       "      <td>Star</td>\n",
       "      <td>3839.75</td>\n",
       "      <td>Standard</td>\n",
       "      <td>2013</td>\n",
       "      <td>2</td>\n",
       "      <td>NaN</td>\n",
       "      <td>NaN</td>\n",
       "    </tr>\n",
       "    <tr>\n",
       "      <th>4</th>\n",
       "      <td>530508</td>\n",
       "      <td>Canada</td>\n",
       "      <td>Quebec</td>\n",
       "      <td>Hull</td>\n",
       "      <td>J8Y 3Z5</td>\n",
       "      <td>Male</td>\n",
       "      <td>Bachelor</td>\n",
       "      <td>103495.0</td>\n",
       "      <td>Married</td>\n",
       "      <td>Star</td>\n",
       "      <td>3842.79</td>\n",
       "      <td>Standard</td>\n",
       "      <td>2014</td>\n",
       "      <td>10</td>\n",
       "      <td>NaN</td>\n",
       "      <td>NaN</td>\n",
       "    </tr>\n",
       "  </tbody>\n",
       "</table>\n",
       "</div>"
      ],
      "text/plain": [
       "   Loyalty Number Country          Province       City Postal Code  Gender  \\\n",
       "0          480934  Canada           Ontario    Toronto     M2Z 4K1  Female   \n",
       "1          549612  Canada           Alberta   Edmonton     T3G 6Y6    Male   \n",
       "2          429460  Canada  British Columbia  Vancouver     V6E 3D9    Male   \n",
       "3          608370  Canada           Ontario    Toronto     P1W 1K4    Male   \n",
       "4          530508  Canada            Quebec       Hull     J8Y 3Z5    Male   \n",
       "\n",
       "  Education    Salary Marital Status Loyalty Card      CLV Enrollment Type  \\\n",
       "0  Bachelor   83236.0        Married         Star  3839.14        Standard   \n",
       "1   College       NaN       Divorced         Star  3839.61        Standard   \n",
       "2   College       NaN         Single         Star  3839.75        Standard   \n",
       "3   College       NaN         Single         Star  3839.75        Standard   \n",
       "4  Bachelor  103495.0        Married         Star  3842.79        Standard   \n",
       "\n",
       "   Enrollment Year  Enrollment Month  Cancellation Year  Cancellation Month  \n",
       "0             2016                 2                NaN                 NaN  \n",
       "1             2016                 3                NaN                 NaN  \n",
       "2             2014                 7             2018.0                 1.0  \n",
       "3             2013                 2                NaN                 NaN  \n",
       "4             2014                10                NaN                 NaN  "
      ]
     },
     "execution_count": 4,
     "metadata": {},
     "output_type": "execute_result"
    }
   ],
   "source": [
    "#Apertura archivo 2\n",
    "df_cust_loyal= pd.read_csv(\"customer_loyalty_history.csv\")\n",
    "\n",
    "pd.set_option('display.max_columns', None)\n",
    "\n",
    "# 5 primeras filas del data frame\n",
    "\n",
    "df_cust_loyal.head()"
   ]
  },
  {
   "cell_type": "markdown",
   "metadata": {},
   "source": [
    "`Exploración general de archivos`"
   ]
  },
  {
   "cell_type": "code",
   "execution_count": 14,
   "metadata": {},
   "outputs": [
    {
     "name": "stdout",
     "output_type": "stream",
     "text": [
      "Análisis general de CUSTOMER FLIGHT \n",
      "\n",
      "<class 'pandas.core.frame.DataFrame'>\n",
      "RangeIndex: 405624 entries, 0 to 405623\n",
      "Data columns (total 10 columns):\n",
      " #   Column                       Non-Null Count   Dtype  \n",
      "---  ------                       --------------   -----  \n",
      " 0   Loyalty Number               405624 non-null  int64  \n",
      " 1   Year                         405624 non-null  int64  \n",
      " 2   Month                        405624 non-null  int64  \n",
      " 3   Flights Booked               405624 non-null  int64  \n",
      " 4   Flights with Companions      405624 non-null  int64  \n",
      " 5   Total Flights                405624 non-null  int64  \n",
      " 6   Distance                     405624 non-null  int64  \n",
      " 7   Points Accumulated           405624 non-null  float64\n",
      " 8   Points Redeemed              405624 non-null  int64  \n",
      " 9   Dollar Cost Points Redeemed  405624 non-null  int64  \n",
      "dtypes: float64(1), int64(9)\n",
      "memory usage: 30.9 MB\n",
      "None\n",
      "\n",
      "----------------------\n",
      "\n",
      "El número de filas que tenemos en customer_flight son : 405624, y el número de columnas es: 10\n",
      "\n",
      "----------------------\n",
      "\n",
      "Las columnas numéricas son:Index(['Loyalty Number', 'Year', 'Month', 'Flights Booked',\n",
      "       'Flights with Companions', 'Total Flights', 'Distance',\n",
      "       'Points Accumulated', 'Points Redeemed', 'Dollar Cost Points Redeemed'],\n",
      "      dtype='object')\n",
      "\n",
      "----------------------\n",
      "\n",
      "Las columnas categóricas son:Index([], dtype='object')\n",
      "\n",
      "----------------------\n",
      "\n",
      "Las columnas categóricas que tienen nulos son : \n",
      " \n",
      "Index([], dtype='object')\n",
      "Las columnas numéricas que tienen nulos son : \n",
      " \n",
      "Index([], dtype='object')\n"
     ]
    }
   ],
   "source": [
    "# Exploración detallada vuelos realizados por clientes\n",
    "print('Análisis general de CUSTOMER FLIGHT \\n')\n",
    "print(df_cust_flight.info())\n",
    "print('\\n----------------------\\n')\n",
    "\n",
    "# Cantidad de columnas y filas \n",
    "print(f\"El número de filas que tenemos en customer_flight son : {df_cust_flight.shape[0]}, y el número de columnas es: {df_cust_flight.shape[1]}\")\n",
    "print('\\n----------------------\\n')\n",
    "\n",
    "# Columnas numéricas y catégoricas \n",
    "print(f\"Las columnas numéricas son:{df_cust_flight.select_dtypes(include = np.number).columns}\")\n",
    "print('\\n----------------------\\n')\n",
    "print(f\"Las columnas categóricas son:{df_cust_flight.select_dtypes(include = \"O\").columns}\")\n",
    "print('\\n----------------------\\n')\n",
    "\n",
    "# Nulos Categóricas \n",
    "nulos_cat = df_cust_flight[df_cust_flight.columns[df_cust_flight.isnull().any()]].select_dtypes(include = \"O\").columns\n",
    "print(\"Las columnas categóricas que tienen nulos son : \\n \")\n",
    "print(nulos_cat)\n",
    "\n",
    "# Nulos Numéricos\n",
    "nulos_num = df_cust_flight[df_cust_flight.columns[df_cust_flight.isnull().any()]].select_dtypes(include = np.number).columns\n",
    "print(\"Las columnas numéricas que tienen nulos son : \\n \")\n",
    "print(nulos_num)"
   ]
  },
  {
   "cell_type": "markdown",
   "metadata": {},
   "source": [
    "*Se observa:*\n",
    "- En la exploración inicial de \"Customer Flight Analysis\"se identifica que no hay nulos y todos son number.\n",
    "\n",
    "- Se puede hacer cambio de tipo de dato a int de Points Accumulated"
   ]
  },
  {
   "cell_type": "code",
   "execution_count": 15,
   "metadata": {},
   "outputs": [
    {
     "name": "stdout",
     "output_type": "stream",
     "text": [
      "Análisis general de CUSTOMER LOYALTY \n",
      "\n",
      "<class 'pandas.core.frame.DataFrame'>\n",
      "RangeIndex: 16737 entries, 0 to 16736\n",
      "Data columns (total 16 columns):\n",
      " #   Column              Non-Null Count  Dtype  \n",
      "---  ------              --------------  -----  \n",
      " 0   Loyalty Number      16737 non-null  int64  \n",
      " 1   Country             16737 non-null  object \n",
      " 2   Province            16737 non-null  object \n",
      " 3   City                16737 non-null  object \n",
      " 4   Postal Code         16737 non-null  object \n",
      " 5   Gender              16737 non-null  object \n",
      " 6   Education           16737 non-null  object \n",
      " 7   Salary              12499 non-null  float64\n",
      " 8   Marital Status      16737 non-null  object \n",
      " 9   Loyalty Card        16737 non-null  object \n",
      " 10  CLV                 16737 non-null  float64\n",
      " 11  Enrollment Type     16737 non-null  object \n",
      " 12  Enrollment Year     16737 non-null  int64  \n",
      " 13  Enrollment Month    16737 non-null  int64  \n",
      " 14  Cancellation Year   2067 non-null   float64\n",
      " 15  Cancellation Month  2067 non-null   float64\n",
      "dtypes: float64(4), int64(3), object(9)\n",
      "memory usage: 2.0+ MB\n",
      "None\n",
      "\n",
      "----------------------\n",
      "\n",
      "El número de filas que tenemos en customer_flight son : 16737, y el número de columnas es: 16\n",
      "\n",
      "----------------------\n",
      "\n",
      "Las columnas numéricas son:Index(['Loyalty Number', 'Salary', 'CLV', 'Enrollment Year',\n",
      "       'Enrollment Month', 'Cancellation Year', 'Cancellation Month'],\n",
      "      dtype='object')\n",
      "\n",
      "----------------------\n",
      "\n",
      "Las columnas categóricas son:Index(['Country', 'Province', 'City', 'Postal Code', 'Gender', 'Education',\n",
      "       'Marital Status', 'Loyalty Card', 'Enrollment Type'],\n",
      "      dtype='object')\n",
      "\n",
      "----------------------\n",
      "\n",
      "Las columnas categóricas que tienen nulos son : \n",
      " \n",
      "Index([], dtype='object')\n",
      "Las columnas numéricas que tienen nulos son : \n",
      " \n",
      "Index(['Salary', 'Cancellation Year', 'Cancellation Month'], dtype='object')\n"
     ]
    }
   ],
   "source": [
    "# Exploración detallada información de clientes\n",
    "print('Análisis general de CUSTOMER LOYALTY \\n')\n",
    "print(df_cust_loyal.info())\n",
    "print('\\n----------------------\\n')\n",
    "\n",
    "# Cantidad de columnas y filas \n",
    "print(f\"El número de filas que tenemos en customer_flight son : {df_cust_loyal.shape[0]}, y el número de columnas es: {df_cust_loyal.shape[1]}\")\n",
    "print('\\n----------------------\\n')\n",
    "\n",
    "# Columnas numéricas y catégoricas \n",
    "print(f\"Las columnas numéricas son:{df_cust_loyal.select_dtypes(include = np.number).columns}\")\n",
    "print('\\n----------------------\\n')\n",
    "print(f\"Las columnas categóricas son:{df_cust_loyal.select_dtypes(include = \"O\").columns}\")\n",
    "print('\\n----------------------\\n')\n",
    "\n",
    "# Nulos Categóricas \n",
    "nulos_cat = df_cust_loyal[df_cust_loyal.columns[df_cust_loyal.isnull().any()]].select_dtypes(include = \"O\").columns\n",
    "print(\"Las columnas categóricas que tienen nulos son : \\n \")\n",
    "print(nulos_cat)\n",
    "\n",
    "# Nulos Numéricos\n",
    "nulos_num = df_cust_loyal[df_cust_loyal.columns[df_cust_loyal.isnull().any()]].select_dtypes(include = np.number).columns\n",
    "print(\"Las columnas numéricas que tienen nulos son : \\n \")\n",
    "print(nulos_num)"
   ]
  },
  {
   "cell_type": "markdown",
   "metadata": {},
   "source": [
    "*Se oberva:*\n",
    "- Datos nulos para columnas numéricas: ['Salary', 'Cancellation Year', 'Cancellation Month']\n",
    "\n",
    "- Cancellation Month, Cancellation Year, Salary - podría cambiarse a tipo de dato int"
   ]
  },
  {
   "cell_type": "markdown",
   "metadata": {},
   "source": [
    "`Conformación de los datos`"
   ]
  },
  {
   "cell_type": "markdown",
   "metadata": {},
   "source": [
    "- Customer flight"
   ]
  },
  {
   "cell_type": "code",
   "execution_count": 23,
   "metadata": {},
   "outputs": [
    {
     "name": "stdout",
     "output_type": "stream",
     "text": [
      "La distribución de las categorías para la columna LOYALTY NUMBER\n"
     ]
    },
    {
     "data": {
      "text/plain": [
       "Loyalty Number\n",
       "678205    0.000178\n",
       "989528    0.000118\n",
       "373638    0.000118\n",
       "684889    0.000118\n",
       "684881    0.000118\n",
       "            ...   \n",
       "428526    0.000059\n",
       "428536    0.000059\n",
       "428565    0.000059\n",
       "428590    0.000059\n",
       "999891    0.000059\n",
       "Name: count, Length: 16737, dtype: float64"
      ]
     },
     "metadata": {},
     "output_type": "display_data"
    },
    {
     "name": "stdout",
     "output_type": "stream",
     "text": [
      "........................\n",
      "La distribución de las categorías para la columna YEAR\n"
     ]
    },
    {
     "data": {
      "text/plain": [
       "Year\n",
       "2017    0.5\n",
       "2018    0.5\n",
       "Name: count, dtype: float64"
      ]
     },
     "metadata": {},
     "output_type": "display_data"
    },
    {
     "name": "stdout",
     "output_type": "stream",
     "text": [
      "........................\n",
      "La distribución de las categorías para la columna MONTH\n"
     ]
    },
    {
     "data": {
      "text/plain": [
       "Month\n",
       "1     0.083333\n",
       "9     0.083333\n",
       "2     0.083333\n",
       "3     0.083333\n",
       "11    0.083333\n",
       "4     0.083333\n",
       "5     0.083333\n",
       "7     0.083333\n",
       "6     0.083333\n",
       "8     0.083333\n",
       "10    0.083333\n",
       "12    0.083333\n",
       "Name: count, dtype: float64"
      ]
     },
     "metadata": {},
     "output_type": "display_data"
    },
    {
     "name": "stdout",
     "output_type": "stream",
     "text": [
      "........................\n",
      "La distribución de las categorías para la columna FLIGHTS BOOKED\n"
     ]
    },
    {
     "data": {
      "text/plain": [
       "Flights Booked\n",
       "0     0.488117\n",
       "3     0.044938\n",
       "11    0.038718\n",
       "5     0.037187\n",
       "7     0.035898\n",
       "8     0.035395\n",
       "9     0.034919\n",
       "6     0.034138\n",
       "2     0.033630\n",
       "10    0.032944\n",
       "4     0.031608\n",
       "1     0.031228\n",
       "13    0.026581\n",
       "12    0.025595\n",
       "14    0.017398\n",
       "15    0.016227\n",
       "16    0.010734\n",
       "17    0.009612\n",
       "18    0.007292\n",
       "19    0.003688\n",
       "20    0.002850\n",
       "21    0.001302\n",
       "Name: count, dtype: float64"
      ]
     },
     "metadata": {},
     "output_type": "display_data"
    },
    {
     "name": "stdout",
     "output_type": "stream",
     "text": [
      "........................\n",
      "La distribución de las categorías para la columna FLIGHTS WITH COMPANIONS\n"
     ]
    },
    {
     "data": {
      "text/plain": [
       "Flights with Companions\n",
       "0     0.731927\n",
       "2     0.047512\n",
       "3     0.046878\n",
       "1     0.044142\n",
       "4     0.033689\n",
       "5     0.033095\n",
       "6     0.024434\n",
       "7     0.017477\n",
       "8     0.009775\n",
       "9     0.007258\n",
       "10    0.002640\n",
       "11    0.001174\n",
       "Name: count, dtype: float64"
      ]
     },
     "metadata": {},
     "output_type": "display_data"
    },
    {
     "name": "stdout",
     "output_type": "stream",
     "text": [
      "........................\n",
      "La distribución de las categorías para la columna TOTAL FLIGHTS\n"
     ]
    },
    {
     "data": {
      "text/plain": [
       "Total Flights\n",
       "0     0.488117\n",
       "6     0.037653\n",
       "10    0.035484\n",
       "8     0.034653\n",
       "4     0.033667\n",
       "2     0.032128\n",
       "12    0.030592\n",
       "11    0.030324\n",
       "9     0.026350\n",
       "13    0.025884\n",
       "14    0.025418\n",
       "7     0.024340\n",
       "3     0.024118\n",
       "5     0.022950\n",
       "15    0.021064\n",
       "16    0.019050\n",
       "17    0.015280\n",
       "1     0.015053\n",
       "18    0.014193\n",
       "19    0.009866\n",
       "20    0.008424\n",
       "21    0.006435\n",
       "22    0.004884\n",
       "23    0.003984\n",
       "24    0.002981\n",
       "25    0.002219\n",
       "26    0.001780\n",
       "27    0.001243\n",
       "28    0.000754\n",
       "29    0.000528\n",
       "30    0.000370\n",
       "31    0.000150\n",
       "32    0.000067\n",
       "Name: count, dtype: float64"
      ]
     },
     "metadata": {},
     "output_type": "display_data"
    },
    {
     "name": "stdout",
     "output_type": "stream",
     "text": [
      "........................\n",
      "La distribución de las categorías para la columna DISTANCE\n"
     ]
    },
    {
     "data": {
      "text/plain": [
       "Distance\n",
       "0       0.488117\n",
       "2520    0.001011\n",
       "2880    0.000989\n",
       "1680    0.000959\n",
       "2160    0.000900\n",
       "          ...   \n",
       "1333    0.000002\n",
       "3722    0.000002\n",
       "3985    0.000002\n",
       "4779    0.000002\n",
       "4135    0.000002\n",
       "Name: count, Length: 4746, dtype: float64"
      ]
     },
     "metadata": {},
     "output_type": "display_data"
    },
    {
     "name": "stdout",
     "output_type": "stream",
     "text": [
      "........................\n",
      "La distribución de las categorías para la columna POINTS ACCUMULATED\n"
     ]
    },
    {
     "data": {
      "text/plain": [
       "Points Accumulated\n",
       "0.00      0.488117\n",
       "180.00    0.001881\n",
       "270.00    0.001810\n",
       "288.00    0.001768\n",
       "189.00    0.001748\n",
       "            ...   \n",
       "658.50    0.000002\n",
       "556.25    0.000002\n",
       "10.80     0.000002\n",
       "565.50    0.000002\n",
       "626.00    0.000002\n",
       "Name: count, Length: 1549, dtype: float64"
      ]
     },
     "metadata": {},
     "output_type": "display_data"
    },
    {
     "name": "stdout",
     "output_type": "stream",
     "text": [
      "........................\n",
      "La distribución de las categorías para la columna POINTS REDEEMED\n"
     ]
    },
    {
     "data": {
      "text/plain": [
       "Points Redeemed\n",
       "0      0.940386\n",
       "447    0.000254\n",
       "523    0.000247\n",
       "443    0.000242\n",
       "516    0.000239\n",
       "         ...   \n",
       "834    0.000002\n",
       "858    0.000002\n",
       "862    0.000002\n",
       "869    0.000002\n",
       "859    0.000002\n",
       "Name: count, Length: 587, dtype: float64"
      ]
     },
     "metadata": {},
     "output_type": "display_data"
    },
    {
     "name": "stdout",
     "output_type": "stream",
     "text": [
      "........................\n",
      "La distribución de las categorías para la columna DOLLAR COST POINTS REDEEMED\n"
     ]
    },
    {
     "data": {
      "text/plain": [
       "Dollar Cost Points Redeemed\n",
       "0     0.940386\n",
       "36    0.002557\n",
       "38    0.002468\n",
       "40    0.002448\n",
       "42    0.002423\n",
       "39    0.002325\n",
       "44    0.002276\n",
       "41    0.002251\n",
       "37    0.002187\n",
       "43    0.002162\n",
       "35    0.002100\n",
       "34    0.002081\n",
       "32    0.002014\n",
       "33    0.001972\n",
       "45    0.001920\n",
       "30    0.001903\n",
       "46    0.001856\n",
       "31    0.001780\n",
       "47    0.001664\n",
       "48    0.001573\n",
       "28    0.001474\n",
       "29    0.001469\n",
       "50    0.001467\n",
       "49    0.001400\n",
       "52    0.001188\n",
       "51    0.001072\n",
       "27    0.001038\n",
       "54    0.000991\n",
       "26    0.000934\n",
       "53    0.000929\n",
       "56    0.000900\n",
       "55    0.000846\n",
       "57    0.000676\n",
       "58    0.000653\n",
       "60    0.000641\n",
       "59    0.000540\n",
       "25    0.000515\n",
       "61    0.000431\n",
       "63    0.000431\n",
       "62    0.000382\n",
       "64    0.000375\n",
       "24    0.000271\n",
       "66    0.000261\n",
       "65    0.000222\n",
       "68    0.000210\n",
       "67    0.000168\n",
       "70    0.000094\n",
       "69    0.000069\n",
       "71    0.000005\n",
       "Name: count, dtype: float64"
      ]
     },
     "metadata": {},
     "output_type": "display_data"
    },
    {
     "name": "stdout",
     "output_type": "stream",
     "text": [
      "........................\n"
     ]
    }
   ],
   "source": [
    "for col in df_cust_flight.columns:\n",
    "    print(f\"La distribución de las categorías para la columna {col.upper()}\")\n",
    "    display(df_cust_flight[col].value_counts() / df_cust_flight.shape[0])  # display es una función utilizada para mostrar objetos de manera más legible en Jupyter Notebooks o entornos similares. \n",
    "    print(\"........................\")"
   ]
  },
  {
   "cell_type": "markdown",
   "metadata": {},
   "source": [
    "- **Customer loyalty**"
   ]
  },
  {
   "cell_type": "code",
   "execution_count": 24,
   "metadata": {},
   "outputs": [
    {
     "name": "stdout",
     "output_type": "stream",
     "text": [
      "La distribución de las categorías para la columna LOYALTY NUMBER\n"
     ]
    },
    {
     "data": {
      "text/plain": [
       "Loyalty Number\n",
       "480934    0.00006\n",
       "208485    0.00006\n",
       "455896    0.00006\n",
       "469781    0.00006\n",
       "533488    0.00006\n",
       "           ...   \n",
       "922188    0.00006\n",
       "780529    0.00006\n",
       "721438    0.00006\n",
       "761015    0.00006\n",
       "652627    0.00006\n",
       "Name: count, Length: 16737, dtype: float64"
      ]
     },
     "metadata": {},
     "output_type": "display_data"
    },
    {
     "name": "stdout",
     "output_type": "stream",
     "text": [
      "........................\n",
      "La distribución de las categorías para la columna COUNTRY\n"
     ]
    },
    {
     "data": {
      "text/plain": [
       "Country\n",
       "Canada    1.0\n",
       "Name: count, dtype: float64"
      ]
     },
     "metadata": {},
     "output_type": "display_data"
    },
    {
     "name": "stdout",
     "output_type": "stream",
     "text": [
      "........................\n",
      "La distribución de las categorías para la columna PROVINCE\n"
     ]
    },
    {
     "data": {
      "text/plain": [
       "Province\n",
       "Ontario                 0.322877\n",
       "British Columbia        0.263428\n",
       "Quebec                  0.197168\n",
       "Alberta                 0.057896\n",
       "Manitoba                0.039314\n",
       "New Brunswick           0.038000\n",
       "Nova Scotia             0.030949\n",
       "Saskatchewan            0.024437\n",
       "Newfoundland            0.015415\n",
       "Yukon                   0.006572\n",
       "Prince Edward Island    0.003943\n",
       "Name: count, dtype: float64"
      ]
     },
     "metadata": {},
     "output_type": "display_data"
    },
    {
     "name": "stdout",
     "output_type": "stream",
     "text": [
      "........................\n",
      "La distribución de las categorías para la columna CITY\n"
     ]
    },
    {
     "data": {
      "text/plain": [
       "City\n",
       "Toronto           0.200215\n",
       "Vancouver         0.154269\n",
       "Montreal          0.123021\n",
       "Winnipeg          0.039314\n",
       "Whistler          0.034773\n",
       "Halifax           0.030949\n",
       "Ottawa            0.030412\n",
       "Trenton           0.029037\n",
       "Edmonton          0.029037\n",
       "Quebec City       0.028978\n",
       "Dawson Creek      0.026528\n",
       "Fredericton       0.025393\n",
       "Regina            0.024437\n",
       "Kingston          0.023959\n",
       "Tremblant         0.023780\n",
       "Victoria          0.023242\n",
       "Hull              0.021390\n",
       "West Vancouver    0.019358\n",
       "St. John's        0.015415\n",
       "Thunder Bay       0.015295\n",
       "Sudbury           0.013563\n",
       "Moncton           0.012607\n",
       "Calgary           0.011412\n",
       "Banff             0.010695\n",
       "London            0.010396\n",
       "Peace River       0.006752\n",
       "Whitehorse        0.006572\n",
       "Kelowna           0.005258\n",
       "Charlottetown     0.003943\n",
       "Name: count, dtype: float64"
      ]
     },
     "metadata": {},
     "output_type": "display_data"
    },
    {
     "name": "stdout",
     "output_type": "stream",
     "text": [
      "........................\n",
      "La distribución de las categorías para la columna POSTAL CODE\n"
     ]
    },
    {
     "data": {
      "text/plain": [
       "Postal Code\n",
       "V6E 3D9    0.054430\n",
       "V5R 1W3    0.040868\n",
       "V6T 1Y8    0.034773\n",
       "V6E 3Z3    0.032503\n",
       "M2M 7K8    0.031905\n",
       "P1J 8T7    0.029874\n",
       "H2T 9K8    0.029814\n",
       "K8V 4B2    0.029037\n",
       "G1B 3L5    0.028978\n",
       "H2T 2J6    0.026648\n",
       "U5I 4F1    0.026528\n",
       "V1E 4R6    0.026468\n",
       "E3B 2H2    0.025393\n",
       "R2C 0M5    0.024795\n",
       "M9K 2P4    0.023959\n",
       "H5Y 2S9    0.023780\n",
       "V10 6T5    0.023242\n",
       "K1F 2R2    0.023242\n",
       "H2Y 2W2    0.021808\n",
       "J8Y 3Z5    0.021390\n",
       "M8Y 4K8    0.020314\n",
       "H4G 3T4    0.020195\n",
       "B3J 9S2    0.019657\n",
       "V6V 8Z3    0.019358\n",
       "P2T 6G3    0.019239\n",
       "H2Y 4R4    0.018821\n",
       "M1R 4K3    0.018701\n",
       "P1L 8X8    0.016849\n",
       "P1W 1K4    0.016431\n",
       "T9G 1W3    0.015893\n",
       "A1C 6H9    0.015415\n",
       "M2Z 4K1    0.015355\n",
       "K8T 5M5    0.015295\n",
       "P5S 6R4    0.014698\n",
       "M5V 1G5    0.013563\n",
       "S6J 3G0    0.013503\n",
       "T3G 6Y6    0.013145\n",
       "E1A 2A7    0.012607\n",
       "T3E 2V9    0.011412\n",
       "B3C 2M8    0.011292\n",
       "S1J 3C5    0.010934\n",
       "T4V 1D4    0.010695\n",
       "M5B 3E4    0.010396\n",
       "M2M 6J7    0.009141\n",
       "R6Y 4T5    0.008544\n",
       "M2P 4F6    0.007528\n",
       "K1G 4Z0    0.007170\n",
       "T9O 2W2    0.006752\n",
       "Y2K 6R0    0.006572\n",
       "R3R 3T4    0.005975\n",
       "H3T 8L4    0.005318\n",
       "V09 2E9    0.005258\n",
       "C1A 6E8    0.003943\n",
       "H3J 5I6    0.000418\n",
       "M3R 4K8    0.000179\n",
       "Name: count, dtype: float64"
      ]
     },
     "metadata": {},
     "output_type": "display_data"
    },
    {
     "name": "stdout",
     "output_type": "stream",
     "text": [
      "........................\n",
      "La distribución de las categorías para la columna GENDER\n"
     ]
    },
    {
     "data": {
      "text/plain": [
       "Gender\n",
       "Female    0.50248\n",
       "Male      0.49752\n",
       "Name: count, dtype: float64"
      ]
     },
     "metadata": {},
     "output_type": "display_data"
    },
    {
     "name": "stdout",
     "output_type": "stream",
     "text": [
      "........................\n",
      "La distribución de las categorías para la columna EDUCATION\n"
     ]
    },
    {
     "data": {
      "text/plain": [
       "Education\n",
       "Bachelor                0.625859\n",
       "College                 0.253211\n",
       "High School or Below    0.046723\n",
       "Doctor                  0.043855\n",
       "Master                  0.030352\n",
       "Name: count, dtype: float64"
      ]
     },
     "metadata": {},
     "output_type": "display_data"
    },
    {
     "name": "stdout",
     "output_type": "stream",
     "text": [
      "........................\n",
      "La distribución de las categorías para la columna SALARY\n"
     ]
    },
    {
     "data": {
      "text/plain": [
       "Salary\n",
       " 101933.0    0.001374\n",
       " 62283.0     0.000836\n",
       " 61809.0     0.000836\n",
       " 51573.0     0.000836\n",
       " 64001.0     0.000777\n",
       "               ...   \n",
       " 95907.0     0.000060\n",
       " 72440.0     0.000060\n",
       " 88633.0     0.000060\n",
       " 100572.0    0.000060\n",
       "-57297.0     0.000060\n",
       "Name: count, Length: 5890, dtype: float64"
      ]
     },
     "metadata": {},
     "output_type": "display_data"
    },
    {
     "name": "stdout",
     "output_type": "stream",
     "text": [
      "........................\n",
      "La distribución de las categorías para la columna MARITAL STATUS\n"
     ]
    },
    {
     "data": {
      "text/plain": [
       "Marital Status\n",
       "Married     0.581645\n",
       "Single      0.267909\n",
       "Divorced    0.150445\n",
       "Name: count, dtype: float64"
      ]
     },
     "metadata": {},
     "output_type": "display_data"
    },
    {
     "name": "stdout",
     "output_type": "stream",
     "text": [
      "........................\n",
      "La distribución de las categorías para la columna LOYALTY CARD\n"
     ]
    },
    {
     "data": {
      "text/plain": [
       "Loyalty Card\n",
       "Star      0.456294\n",
       "Nova      0.338830\n",
       "Aurora    0.204875\n",
       "Name: count, dtype: float64"
      ]
     },
     "metadata": {},
     "output_type": "display_data"
    },
    {
     "name": "stdout",
     "output_type": "stream",
     "text": [
      "........................\n",
      "La distribución de las categorías para la columna CLV\n"
     ]
    },
    {
     "data": {
      "text/plain": [
       "CLV\n",
       "8564.77     0.000777\n",
       "13024.13    0.000717\n",
       "3808.12     0.000717\n",
       "2359.42     0.000717\n",
       "3731.50     0.000717\n",
       "              ...   \n",
       "16152.90    0.000060\n",
       "5204.65     0.000060\n",
       "5620.59     0.000060\n",
       "5205.02     0.000060\n",
       "61134.68    0.000060\n",
       "Name: count, Length: 7984, dtype: float64"
      ]
     },
     "metadata": {},
     "output_type": "display_data"
    },
    {
     "name": "stdout",
     "output_type": "stream",
     "text": [
      "........................\n",
      "La distribución de las categorías para la columna ENROLLMENT TYPE\n"
     ]
    },
    {
     "data": {
      "text/plain": [
       "Enrollment Type\n",
       "Standard          0.941985\n",
       "2018 Promotion    0.058015\n",
       "Name: count, dtype: float64"
      ]
     },
     "metadata": {},
     "output_type": "display_data"
    },
    {
     "name": "stdout",
     "output_type": "stream",
     "text": [
      "........................\n",
      "La distribución de las categorías para la columna ENROLLMENT YEAR\n"
     ]
    },
    {
     "data": {
      "text/plain": [
       "Enrollment Year\n",
       "2018    0.179841\n",
       "2017    0.148593\n",
       "2016    0.146741\n",
       "2013    0.143216\n",
       "2014    0.141602\n",
       "2015    0.139272\n",
       "2012    0.100735\n",
       "Name: count, dtype: float64"
      ]
     },
     "metadata": {},
     "output_type": "display_data"
    },
    {
     "name": "stdout",
     "output_type": "stream",
     "text": [
      "........................\n",
      "La distribución de las categorías para la columna ENROLLMENT MONTH\n"
     ]
    },
    {
     "data": {
      "text/plain": [
       "Enrollment Month\n",
       "5     0.089801\n",
       "12    0.088427\n",
       "7     0.088009\n",
       "11    0.086395\n",
       "10    0.086276\n",
       "8     0.085439\n",
       "6     0.084364\n",
       "9     0.083109\n",
       "4     0.082930\n",
       "3     0.081138\n",
       "2     0.072892\n",
       "1     0.071219\n",
       "Name: count, dtype: float64"
      ]
     },
     "metadata": {},
     "output_type": "display_data"
    },
    {
     "name": "stdout",
     "output_type": "stream",
     "text": [
      "........................\n",
      "La distribución de las categorías para la columna CANCELLATION YEAR\n"
     ]
    },
    {
     "data": {
      "text/plain": [
       "Cancellation Year\n",
       "2018.0    0.038537\n",
       "2017.0    0.030232\n",
       "2016.0    0.025512\n",
       "2015.0    0.015833\n",
       "2014.0    0.010814\n",
       "2013.0    0.002569\n",
       "Name: count, dtype: float64"
      ]
     },
     "metadata": {},
     "output_type": "display_data"
    },
    {
     "name": "stdout",
     "output_type": "stream",
     "text": [
      "........................\n",
      "La distribución de las categorías para la columna CANCELLATION MONTH\n"
     ]
    },
    {
     "data": {
      "text/plain": [
       "Cancellation Month\n",
       "12.0    0.012726\n",
       "11.0    0.012667\n",
       "8.0     0.012428\n",
       "7.0     0.011113\n",
       "10.0    0.010755\n",
       "9.0     0.010516\n",
       "6.0     0.009858\n",
       "1.0     0.009261\n",
       "3.0     0.008902\n",
       "5.0     0.008843\n",
       "2.0     0.008305\n",
       "4.0     0.008126\n",
       "Name: count, dtype: float64"
      ]
     },
     "metadata": {},
     "output_type": "display_data"
    },
    {
     "name": "stdout",
     "output_type": "stream",
     "text": [
      "........................\n"
     ]
    }
   ],
   "source": [
    "for col in df_cust_loyal.columns:\n",
    "    print(f\"La distribución de las categorías para la columna {col.upper()}\")\n",
    "    display(df_cust_loyal[col].value_counts() / df_cust_loyal.shape[0])  # display es una función utilizada para mostrar objetos de manera más legible en Jupyter Notebooks o entornos similares. \n",
    "    print(\"........................\")"
   ]
  },
  {
   "cell_type": "markdown",
   "metadata": {},
   "source": [
    "`Principales datos estadísticos`"
   ]
  },
  {
   "cell_type": "markdown",
   "metadata": {},
   "source": [
    "- **Customer flight**"
   ]
  },
  {
   "cell_type": "code",
   "execution_count": 19,
   "metadata": {},
   "outputs": [
    {
     "data": {
      "text/html": [
       "<div>\n",
       "<style scoped>\n",
       "    .dataframe tbody tr th:only-of-type {\n",
       "        vertical-align: middle;\n",
       "    }\n",
       "\n",
       "    .dataframe tbody tr th {\n",
       "        vertical-align: top;\n",
       "    }\n",
       "\n",
       "    .dataframe thead th {\n",
       "        text-align: right;\n",
       "    }\n",
       "</style>\n",
       "<table border=\"1\" class=\"dataframe\">\n",
       "  <thead>\n",
       "    <tr style=\"text-align: right;\">\n",
       "      <th></th>\n",
       "      <th>count</th>\n",
       "      <th>mean</th>\n",
       "      <th>std</th>\n",
       "      <th>min</th>\n",
       "      <th>25%</th>\n",
       "      <th>50%</th>\n",
       "      <th>75%</th>\n",
       "      <th>max</th>\n",
       "    </tr>\n",
       "  </thead>\n",
       "  <tbody>\n",
       "    <tr>\n",
       "      <th>Loyalty Number</th>\n",
       "      <td>405624.0</td>\n",
       "      <td>550037.873084</td>\n",
       "      <td>258935.286969</td>\n",
       "      <td>100018.0</td>\n",
       "      <td>326961.00</td>\n",
       "      <td>550834.0</td>\n",
       "      <td>772194.00</td>\n",
       "      <td>999986.0</td>\n",
       "    </tr>\n",
       "    <tr>\n",
       "      <th>Year</th>\n",
       "      <td>405624.0</td>\n",
       "      <td>2017.500000</td>\n",
       "      <td>0.500001</td>\n",
       "      <td>2017.0</td>\n",
       "      <td>2017.00</td>\n",
       "      <td>2017.5</td>\n",
       "      <td>2018.00</td>\n",
       "      <td>2018.0</td>\n",
       "    </tr>\n",
       "    <tr>\n",
       "      <th>Month</th>\n",
       "      <td>405624.0</td>\n",
       "      <td>6.500000</td>\n",
       "      <td>3.452057</td>\n",
       "      <td>1.0</td>\n",
       "      <td>3.75</td>\n",
       "      <td>6.5</td>\n",
       "      <td>9.25</td>\n",
       "      <td>12.0</td>\n",
       "    </tr>\n",
       "    <tr>\n",
       "      <th>Flights Booked</th>\n",
       "      <td>405624.0</td>\n",
       "      <td>4.115052</td>\n",
       "      <td>5.225518</td>\n",
       "      <td>0.0</td>\n",
       "      <td>0.00</td>\n",
       "      <td>1.0</td>\n",
       "      <td>8.00</td>\n",
       "      <td>21.0</td>\n",
       "    </tr>\n",
       "    <tr>\n",
       "      <th>Flights with Companions</th>\n",
       "      <td>405624.0</td>\n",
       "      <td>1.031805</td>\n",
       "      <td>2.076869</td>\n",
       "      <td>0.0</td>\n",
       "      <td>0.00</td>\n",
       "      <td>0.0</td>\n",
       "      <td>1.00</td>\n",
       "      <td>11.0</td>\n",
       "    </tr>\n",
       "    <tr>\n",
       "      <th>Total Flights</th>\n",
       "      <td>405624.0</td>\n",
       "      <td>5.146858</td>\n",
       "      <td>6.521227</td>\n",
       "      <td>0.0</td>\n",
       "      <td>0.00</td>\n",
       "      <td>1.0</td>\n",
       "      <td>10.00</td>\n",
       "      <td>32.0</td>\n",
       "    </tr>\n",
       "    <tr>\n",
       "      <th>Distance</th>\n",
       "      <td>405624.0</td>\n",
       "      <td>1208.880059</td>\n",
       "      <td>1433.155320</td>\n",
       "      <td>0.0</td>\n",
       "      <td>0.00</td>\n",
       "      <td>488.0</td>\n",
       "      <td>2336.00</td>\n",
       "      <td>6293.0</td>\n",
       "    </tr>\n",
       "    <tr>\n",
       "      <th>Points Accumulated</th>\n",
       "      <td>405624.0</td>\n",
       "      <td>123.692721</td>\n",
       "      <td>146.599831</td>\n",
       "      <td>0.0</td>\n",
       "      <td>0.00</td>\n",
       "      <td>50.0</td>\n",
       "      <td>239.00</td>\n",
       "      <td>676.5</td>\n",
       "    </tr>\n",
       "    <tr>\n",
       "      <th>Points Redeemed</th>\n",
       "      <td>405624.0</td>\n",
       "      <td>30.696872</td>\n",
       "      <td>125.486049</td>\n",
       "      <td>0.0</td>\n",
       "      <td>0.00</td>\n",
       "      <td>0.0</td>\n",
       "      <td>0.00</td>\n",
       "      <td>876.0</td>\n",
       "    </tr>\n",
       "    <tr>\n",
       "      <th>Dollar Cost Points Redeemed</th>\n",
       "      <td>405624.0</td>\n",
       "      <td>2.484503</td>\n",
       "      <td>10.150038</td>\n",
       "      <td>0.0</td>\n",
       "      <td>0.00</td>\n",
       "      <td>0.0</td>\n",
       "      <td>0.00</td>\n",
       "      <td>71.0</td>\n",
       "    </tr>\n",
       "  </tbody>\n",
       "</table>\n",
       "</div>"
      ],
      "text/plain": [
       "                                count           mean            std       min  \\\n",
       "Loyalty Number               405624.0  550037.873084  258935.286969  100018.0   \n",
       "Year                         405624.0    2017.500000       0.500001    2017.0   \n",
       "Month                        405624.0       6.500000       3.452057       1.0   \n",
       "Flights Booked               405624.0       4.115052       5.225518       0.0   \n",
       "Flights with Companions      405624.0       1.031805       2.076869       0.0   \n",
       "Total Flights                405624.0       5.146858       6.521227       0.0   \n",
       "Distance                     405624.0    1208.880059    1433.155320       0.0   \n",
       "Points Accumulated           405624.0     123.692721     146.599831       0.0   \n",
       "Points Redeemed              405624.0      30.696872     125.486049       0.0   \n",
       "Dollar Cost Points Redeemed  405624.0       2.484503      10.150038       0.0   \n",
       "\n",
       "                                   25%       50%        75%       max  \n",
       "Loyalty Number               326961.00  550834.0  772194.00  999986.0  \n",
       "Year                           2017.00    2017.5    2018.00    2018.0  \n",
       "Month                             3.75       6.5       9.25      12.0  \n",
       "Flights Booked                    0.00       1.0       8.00      21.0  \n",
       "Flights with Companions           0.00       0.0       1.00      11.0  \n",
       "Total Flights                     0.00       1.0      10.00      32.0  \n",
       "Distance                          0.00     488.0    2336.00    6293.0  \n",
       "Points Accumulated                0.00      50.0     239.00     676.5  \n",
       "Points Redeemed                   0.00       0.0       0.00     876.0  \n",
       "Dollar Cost Points Redeemed       0.00       0.0       0.00      71.0  "
      ]
     },
     "execution_count": 19,
     "metadata": {},
     "output_type": "execute_result"
    }
   ],
   "source": [
    "df_cust_flight.describe().T"
   ]
  },
  {
   "cell_type": "markdown",
   "metadata": {},
   "source": [
    "- *Análisis*:\n",
    "\n",
    "    - Total Flights: tiene una desviación estandar significativa, y viendo el valor max, y la mdiana se puede decir que hay muchos valores atípicos "
   ]
  },
  {
   "cell_type": "markdown",
   "metadata": {},
   "source": [
    "- **Customer loyalty**"
   ]
  },
  {
   "cell_type": "code",
   "execution_count": 21,
   "metadata": {},
   "outputs": [
    {
     "data": {
      "text/html": [
       "<div>\n",
       "<style scoped>\n",
       "    .dataframe tbody tr th:only-of-type {\n",
       "        vertical-align: middle;\n",
       "    }\n",
       "\n",
       "    .dataframe tbody tr th {\n",
       "        vertical-align: top;\n",
       "    }\n",
       "\n",
       "    .dataframe thead th {\n",
       "        text-align: right;\n",
       "    }\n",
       "</style>\n",
       "<table border=\"1\" class=\"dataframe\">\n",
       "  <thead>\n",
       "    <tr style=\"text-align: right;\">\n",
       "      <th></th>\n",
       "      <th>count</th>\n",
       "      <th>mean</th>\n",
       "      <th>std</th>\n",
       "      <th>min</th>\n",
       "      <th>25%</th>\n",
       "      <th>50%</th>\n",
       "      <th>75%</th>\n",
       "      <th>max</th>\n",
       "    </tr>\n",
       "  </thead>\n",
       "  <tbody>\n",
       "    <tr>\n",
       "      <th>Loyalty Number</th>\n",
       "      <td>16737.0</td>\n",
       "      <td>549735.880445</td>\n",
       "      <td>258912.132453</td>\n",
       "      <td>100018.00</td>\n",
       "      <td>326603.00</td>\n",
       "      <td>550434.00</td>\n",
       "      <td>772019.00</td>\n",
       "      <td>999986.00</td>\n",
       "    </tr>\n",
       "    <tr>\n",
       "      <th>Salary</th>\n",
       "      <td>12499.0</td>\n",
       "      <td>79245.609409</td>\n",
       "      <td>35008.297285</td>\n",
       "      <td>-58486.00</td>\n",
       "      <td>59246.50</td>\n",
       "      <td>73455.00</td>\n",
       "      <td>88517.50</td>\n",
       "      <td>407228.00</td>\n",
       "    </tr>\n",
       "    <tr>\n",
       "      <th>CLV</th>\n",
       "      <td>16737.0</td>\n",
       "      <td>7988.896536</td>\n",
       "      <td>6860.982280</td>\n",
       "      <td>1898.01</td>\n",
       "      <td>3980.84</td>\n",
       "      <td>5780.18</td>\n",
       "      <td>8940.58</td>\n",
       "      <td>83325.38</td>\n",
       "    </tr>\n",
       "    <tr>\n",
       "      <th>Enrollment Year</th>\n",
       "      <td>16737.0</td>\n",
       "      <td>2015.253211</td>\n",
       "      <td>1.979111</td>\n",
       "      <td>2012.00</td>\n",
       "      <td>2014.00</td>\n",
       "      <td>2015.00</td>\n",
       "      <td>2017.00</td>\n",
       "      <td>2018.00</td>\n",
       "    </tr>\n",
       "    <tr>\n",
       "      <th>Enrollment Month</th>\n",
       "      <td>16737.0</td>\n",
       "      <td>6.669116</td>\n",
       "      <td>3.398958</td>\n",
       "      <td>1.00</td>\n",
       "      <td>4.00</td>\n",
       "      <td>7.00</td>\n",
       "      <td>10.00</td>\n",
       "      <td>12.00</td>\n",
       "    </tr>\n",
       "    <tr>\n",
       "      <th>Cancellation Year</th>\n",
       "      <td>2067.0</td>\n",
       "      <td>2016.503145</td>\n",
       "      <td>1.380743</td>\n",
       "      <td>2013.00</td>\n",
       "      <td>2016.00</td>\n",
       "      <td>2017.00</td>\n",
       "      <td>2018.00</td>\n",
       "      <td>2018.00</td>\n",
       "    </tr>\n",
       "    <tr>\n",
       "      <th>Cancellation Month</th>\n",
       "      <td>2067.0</td>\n",
       "      <td>6.962748</td>\n",
       "      <td>3.455297</td>\n",
       "      <td>1.00</td>\n",
       "      <td>4.00</td>\n",
       "      <td>7.00</td>\n",
       "      <td>10.00</td>\n",
       "      <td>12.00</td>\n",
       "    </tr>\n",
       "  </tbody>\n",
       "</table>\n",
       "</div>"
      ],
      "text/plain": [
       "                      count           mean            std        min  \\\n",
       "Loyalty Number      16737.0  549735.880445  258912.132453  100018.00   \n",
       "Salary              12499.0   79245.609409   35008.297285  -58486.00   \n",
       "CLV                 16737.0    7988.896536    6860.982280    1898.01   \n",
       "Enrollment Year     16737.0    2015.253211       1.979111    2012.00   \n",
       "Enrollment Month    16737.0       6.669116       3.398958       1.00   \n",
       "Cancellation Year    2067.0    2016.503145       1.380743    2013.00   \n",
       "Cancellation Month   2067.0       6.962748       3.455297       1.00   \n",
       "\n",
       "                          25%        50%        75%        max  \n",
       "Loyalty Number      326603.00  550434.00  772019.00  999986.00  \n",
       "Salary               59246.50   73455.00   88517.50  407228.00  \n",
       "CLV                   3980.84    5780.18    8940.58   83325.38  \n",
       "Enrollment Year       2014.00    2015.00    2017.00    2018.00  \n",
       "Enrollment Month         4.00       7.00      10.00      12.00  \n",
       "Cancellation Year     2016.00    2017.00    2018.00    2018.00  \n",
       "Cancellation Month       4.00       7.00      10.00      12.00  "
      ]
     },
     "execution_count": 21,
     "metadata": {},
     "output_type": "execute_result"
    }
   ],
   "source": [
    "# Variables numéricas\n",
    "df_cust_loyal.describe().T"
   ]
  },
  {
   "cell_type": "markdown",
   "metadata": {},
   "source": [
    "- *Análisis*:\n",
    "\n",
    "    - Salary: tiene una desviación estandar significativa, y viendo el valor max y min encontramos que es una columna donde puede tener outliers. Requiere cambiar valores a positivo\n",
    "    - Revisando datos con nulos, se podría pensar que Cancellation Year' y 'Cancellation Month', se puedan gestionar con la media, ya que no presenta min y max fuera del tipo de dato esperado."
   ]
  },
  {
   "cell_type": "code",
   "execution_count": 22,
   "metadata": {},
   "outputs": [
    {
     "data": {
      "text/html": [
       "<div>\n",
       "<style scoped>\n",
       "    .dataframe tbody tr th:only-of-type {\n",
       "        vertical-align: middle;\n",
       "    }\n",
       "\n",
       "    .dataframe tbody tr th {\n",
       "        vertical-align: top;\n",
       "    }\n",
       "\n",
       "    .dataframe thead th {\n",
       "        text-align: right;\n",
       "    }\n",
       "</style>\n",
       "<table border=\"1\" class=\"dataframe\">\n",
       "  <thead>\n",
       "    <tr style=\"text-align: right;\">\n",
       "      <th></th>\n",
       "      <th>count</th>\n",
       "      <th>unique</th>\n",
       "      <th>top</th>\n",
       "      <th>freq</th>\n",
       "    </tr>\n",
       "  </thead>\n",
       "  <tbody>\n",
       "    <tr>\n",
       "      <th>Country</th>\n",
       "      <td>16737</td>\n",
       "      <td>1</td>\n",
       "      <td>Canada</td>\n",
       "      <td>16737</td>\n",
       "    </tr>\n",
       "    <tr>\n",
       "      <th>Province</th>\n",
       "      <td>16737</td>\n",
       "      <td>11</td>\n",
       "      <td>Ontario</td>\n",
       "      <td>5404</td>\n",
       "    </tr>\n",
       "    <tr>\n",
       "      <th>City</th>\n",
       "      <td>16737</td>\n",
       "      <td>29</td>\n",
       "      <td>Toronto</td>\n",
       "      <td>3351</td>\n",
       "    </tr>\n",
       "    <tr>\n",
       "      <th>Postal Code</th>\n",
       "      <td>16737</td>\n",
       "      <td>55</td>\n",
       "      <td>V6E 3D9</td>\n",
       "      <td>911</td>\n",
       "    </tr>\n",
       "    <tr>\n",
       "      <th>Gender</th>\n",
       "      <td>16737</td>\n",
       "      <td>2</td>\n",
       "      <td>Female</td>\n",
       "      <td>8410</td>\n",
       "    </tr>\n",
       "    <tr>\n",
       "      <th>Education</th>\n",
       "      <td>16737</td>\n",
       "      <td>5</td>\n",
       "      <td>Bachelor</td>\n",
       "      <td>10475</td>\n",
       "    </tr>\n",
       "    <tr>\n",
       "      <th>Marital Status</th>\n",
       "      <td>16737</td>\n",
       "      <td>3</td>\n",
       "      <td>Married</td>\n",
       "      <td>9735</td>\n",
       "    </tr>\n",
       "    <tr>\n",
       "      <th>Loyalty Card</th>\n",
       "      <td>16737</td>\n",
       "      <td>3</td>\n",
       "      <td>Star</td>\n",
       "      <td>7637</td>\n",
       "    </tr>\n",
       "    <tr>\n",
       "      <th>Enrollment Type</th>\n",
       "      <td>16737</td>\n",
       "      <td>2</td>\n",
       "      <td>Standard</td>\n",
       "      <td>15766</td>\n",
       "    </tr>\n",
       "  </tbody>\n",
       "</table>\n",
       "</div>"
      ],
      "text/plain": [
       "                 count unique       top   freq\n",
       "Country          16737      1    Canada  16737\n",
       "Province         16737     11   Ontario   5404\n",
       "City             16737     29   Toronto   3351\n",
       "Postal Code      16737     55   V6E 3D9    911\n",
       "Gender           16737      2    Female   8410\n",
       "Education        16737      5  Bachelor  10475\n",
       "Marital Status   16737      3   Married   9735\n",
       "Loyalty Card     16737      3      Star   7637\n",
       "Enrollment Type  16737      2  Standard  15766"
      ]
     },
     "execution_count": 22,
     "metadata": {},
     "output_type": "execute_result"
    }
   ],
   "source": [
    "# Variables catégoricas\n",
    "df_cust_loyal.describe(include = \"object\").T"
   ]
  },
  {
   "cell_type": "markdown",
   "metadata": {},
   "source": [
    "`Datos atípicos`"
   ]
  },
  {
   "cell_type": "markdown",
   "metadata": {},
   "source": [
    "**- Customer flight**"
   ]
  },
  {
   "cell_type": "code",
   "execution_count": 47,
   "metadata": {},
   "outputs": [
    {
     "data": {
      "text/plain": [
       "['Loyalty Number',\n",
       " 'Year',\n",
       " 'Month',\n",
       " 'Flights Booked',\n",
       " 'Flights with Companions',\n",
       " 'Total Flights',\n",
       " 'Distance',\n",
       " 'Points Accumulated',\n",
       " 'Points Redeemed',\n",
       " 'Dollar Cost Points Redeemed']"
      ]
     },
     "execution_count": 47,
     "metadata": {},
     "output_type": "execute_result"
    }
   ],
   "source": [
    "columnas_num= df_cust_flight.select_dtypes(include = np.number).columns.tolist()\n",
    "columnas_num\n"
   ]
  },
  {
   "cell_type": "code",
   "execution_count": 48,
   "metadata": {},
   "outputs": [
    {
     "data": {
      "image/png": "[encoded data removed]",
      "text/plain": [
       "<Figure size 2000x1000 with 10 Axes>"
      ]
     },
     "metadata": {},
     "output_type": "display_data"
    }
   ],
   "source": [
    "#Valores atipicos o outliers\n",
    "\n",
    "\n",
    "fig, axes = plt.subplots(nrows = 5, ncols = 2, figsize = (20,10)) \n",
    "\n",
    "axes = axes.flat\n",
    "\n",
    "for indice, col in enumerate(columnas_num):\n",
    "    sns.boxplot(x = col, data =df_cust_flight, ax = axes[indice])\n",
    "    \n",
    "plt.tight_layout();"
   ]
  },
  {
   "cell_type": "markdown",
   "metadata": {},
   "source": [
    "*Análisis:*\n",
    "- Tenemos una cantidad de datos atipicos en algunas de las categorías. Si bien esto no representa un problema significativo al no tener datos nulos. Es importante considerarlo en términos estadísticos y como puede estar influyendo en la media de algunas variables"
   ]
  },
  {
   "cell_type": "markdown",
   "metadata": {},
   "source": [
    "**- Customer loyalty**"
   ]
  },
  {
   "cell_type": "code",
   "execution_count": 49,
   "metadata": {},
   "outputs": [
    {
     "data": {
      "text/plain": [
       "['Loyalty Number',\n",
       " 'Salary',\n",
       " 'CLV',\n",
       " 'Enrollment Year',\n",
       " 'Enrollment Month',\n",
       " 'Cancellation Year',\n",
       " 'Cancellation Month']"
      ]
     },
     "execution_count": 49,
     "metadata": {},
     "output_type": "execute_result"
    }
   ],
   "source": [
    "columnas_num= df_cust_loyal.select_dtypes(include = np.number).columns.tolist()\n",
    "columnas_num"
   ]
  },
  {
   "cell_type": "code",
   "execution_count": 50,
   "metadata": {},
   "outputs": [
    {
     "data": {
      "image/png": "[encoded data removed]",
      "text/plain": [
       "<Figure size 2000x1000 with 8 Axes>"
      ]
     },
     "metadata": {},
     "output_type": "display_data"
    }
   ],
   "source": [
    "#Valores atipicos o outliers\n",
    "\n",
    "\n",
    "fig, axes = plt.subplots(nrows = 4, ncols = 2, figsize = (20,10)) \n",
    "\n",
    "axes = axes.flat\n",
    "\n",
    "for indice, col in enumerate(columnas_num):\n",
    "    sns.boxplot(x = col, data =df_cust_loyal, ax = axes[indice])\n",
    "    \n",
    "plt.tight_layout();"
   ]
  },
  {
   "cell_type": "markdown",
   "metadata": {},
   "source": [
    "**Limpieza de datos**\n",
    "\n",
    "- Quitar espacios de las columnas \n",
    "- En la columna salary tenemos algunos datos negativos\n",
    "- Enrollment Type: 2018 Promotion, elimimar 2018\n",
    "- cambiar espacios por guion bajo en los datos \n",
    "- customer flight, el year debe quitarse los valores correspondientes a 2017.5, "
   ]
  }
 ],
 "metadata": {
  "kernelspec": {
   "display_name": "base",
   "language": "python",
   "name": "python3"
  },
  "language_info": {
   "codemirror_mode": {
    "name": "ipython",
    "version": 3
   },
   "file_extension": ".py",
   "mimetype": "text/x-python",
   "name": "python",
   "nbconvert_exporter": "python",
   "pygments_lexer": "ipython3",
   "version": "3.12.4"
  }
 },
 "nbformat": 4,
 "nbformat_minor": 2
}
