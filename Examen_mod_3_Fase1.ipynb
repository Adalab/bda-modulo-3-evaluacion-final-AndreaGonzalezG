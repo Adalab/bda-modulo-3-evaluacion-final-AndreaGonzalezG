{
 "cells": [
  {
   "cell_type": "markdown",
   "metadata": {},
   "source": [
    "### Fase 1: Exploración y Limpieza"
   ]
  },
  {
   "cell_type": "markdown",
   "metadata": {},
   "source": [
    "**1. Exploración Inicial**"
   ]
  },
  {
   "cell_type": "code",
   "execution_count": 114,
   "metadata": {},
   "outputs": [],
   "source": [
    "# importamos las librerías que necesitamos\n",
    "\n",
    "# Tratamiento de datos\n",
    "# -----------------------------------------------------------------------\n",
    "import pandas as pd\n",
    "import numpy as np\n",
    "\n",
    "# Libreria Regex para buscar patrones\n",
    "import re\n",
    "\n",
    "# Imputación de nulos usando métodos avanzados estadísticos\n",
    "# -----------------------------------------------------------------------\n",
    "from sklearn.impute import SimpleImputer\n",
    "from sklearn.experimental import enable_iterative_imputer\n",
    "from sklearn.impute import IterativeImputer\n",
    "from sklearn.impute import KNNImputer\n",
    "\n",
    "# Librerías de visualización\n",
    "# -----------------------------------------------------------------------\n",
    "import seaborn as sns\n",
    "import matplotlib.pyplot as plt\n",
    "# Configuración\n",
    "# -----------------------------------------------------------------------\n",
    "pd.set_option('display.max_columns', None) # para poder visualizar todas las columnas de los DataFrames\n",
    "pd.set_option('display.max_rows', None)"
   ]
  },
  {
   "cell_type": "markdown",
   "metadata": {},
   "source": [
    "`Lectura de archivos`"
   ]
  },
  {
   "cell_type": "code",
   "execution_count": 3,
   "metadata": {},
   "outputs": [
    {
     "data": {
      "text/html": [
       "<div>\n",
       "<style scoped>\n",
       "    .dataframe tbody tr th:only-of-type {\n",
       "        vertical-align: middle;\n",
       "    }\n",
       "\n",
       "    .dataframe tbody tr th {\n",
       "        vertical-align: top;\n",
       "    }\n",
       "\n",
       "    .dataframe thead th {\n",
       "        text-align: right;\n",
       "    }\n",
       "</style>\n",
       "<table border=\"1\" class=\"dataframe\">\n",
       "  <thead>\n",
       "    <tr style=\"text-align: right;\">\n",
       "      <th></th>\n",
       "      <th>Loyalty Number</th>\n",
       "      <th>Year</th>\n",
       "      <th>Month</th>\n",
       "      <th>Flights Booked</th>\n",
       "      <th>Flights with Companions</th>\n",
       "      <th>Total Flights</th>\n",
       "      <th>Distance</th>\n",
       "      <th>Points Accumulated</th>\n",
       "      <th>Points Redeemed</th>\n",
       "      <th>Dollar Cost Points Redeemed</th>\n",
       "    </tr>\n",
       "  </thead>\n",
       "  <tbody>\n",
       "    <tr>\n",
       "      <th>0</th>\n",
       "      <td>100018</td>\n",
       "      <td>2017</td>\n",
       "      <td>1</td>\n",
       "      <td>3</td>\n",
       "      <td>0</td>\n",
       "      <td>3</td>\n",
       "      <td>1521</td>\n",
       "      <td>152.0</td>\n",
       "      <td>0</td>\n",
       "      <td>0</td>\n",
       "    </tr>\n",
       "    <tr>\n",
       "      <th>1</th>\n",
       "      <td>100102</td>\n",
       "      <td>2017</td>\n",
       "      <td>1</td>\n",
       "      <td>10</td>\n",
       "      <td>4</td>\n",
       "      <td>14</td>\n",
       "      <td>2030</td>\n",
       "      <td>203.0</td>\n",
       "      <td>0</td>\n",
       "      <td>0</td>\n",
       "    </tr>\n",
       "    <tr>\n",
       "      <th>2</th>\n",
       "      <td>100140</td>\n",
       "      <td>2017</td>\n",
       "      <td>1</td>\n",
       "      <td>6</td>\n",
       "      <td>0</td>\n",
       "      <td>6</td>\n",
       "      <td>1200</td>\n",
       "      <td>120.0</td>\n",
       "      <td>0</td>\n",
       "      <td>0</td>\n",
       "    </tr>\n",
       "    <tr>\n",
       "      <th>3</th>\n",
       "      <td>100214</td>\n",
       "      <td>2017</td>\n",
       "      <td>1</td>\n",
       "      <td>0</td>\n",
       "      <td>0</td>\n",
       "      <td>0</td>\n",
       "      <td>0</td>\n",
       "      <td>0.0</td>\n",
       "      <td>0</td>\n",
       "      <td>0</td>\n",
       "    </tr>\n",
       "    <tr>\n",
       "      <th>4</th>\n",
       "      <td>100272</td>\n",
       "      <td>2017</td>\n",
       "      <td>1</td>\n",
       "      <td>0</td>\n",
       "      <td>0</td>\n",
       "      <td>0</td>\n",
       "      <td>0</td>\n",
       "      <td>0.0</td>\n",
       "      <td>0</td>\n",
       "      <td>0</td>\n",
       "    </tr>\n",
       "  </tbody>\n",
       "</table>\n",
       "</div>"
      ],
      "text/plain": [
       "   Loyalty Number  Year  Month  Flights Booked  Flights with Companions  \\\n",
       "0          100018  2017      1               3                        0   \n",
       "1          100102  2017      1              10                        4   \n",
       "2          100140  2017      1               6                        0   \n",
       "3          100214  2017      1               0                        0   \n",
       "4          100272  2017      1               0                        0   \n",
       "\n",
       "   Total Flights  Distance  Points Accumulated  Points Redeemed  \\\n",
       "0              3      1521               152.0                0   \n",
       "1             14      2030               203.0                0   \n",
       "2              6      1200               120.0                0   \n",
       "3              0         0                 0.0                0   \n",
       "4              0         0                 0.0                0   \n",
       "\n",
       "   Dollar Cost Points Redeemed  \n",
       "0                            0  \n",
       "1                            0  \n",
       "2                            0  \n",
       "3                            0  \n",
       "4                            0  "
      ]
     },
     "execution_count": 3,
     "metadata": {},
     "output_type": "execute_result"
    }
   ],
   "source": [
    "#Apertura archivo 1\n",
    "df_cust_flight= pd.read_csv(\"customer_flight_activity.csv\")\n",
    "\n",
    "pd.set_option('display.max_columns', None)\n",
    "\n",
    "# 5 primeras filas del data frame\n",
    "\n",
    "df_cust_flight.head()"
   ]
  },
  {
   "cell_type": "code",
   "execution_count": 4,
   "metadata": {},
   "outputs": [
    {
     "data": {
      "text/html": [
       "<div>\n",
       "<style scoped>\n",
       "    .dataframe tbody tr th:only-of-type {\n",
       "        vertical-align: middle;\n",
       "    }\n",
       "\n",
       "    .dataframe tbody tr th {\n",
       "        vertical-align: top;\n",
       "    }\n",
       "\n",
       "    .dataframe thead th {\n",
       "        text-align: right;\n",
       "    }\n",
       "</style>\n",
       "<table border=\"1\" class=\"dataframe\">\n",
       "  <thead>\n",
       "    <tr style=\"text-align: right;\">\n",
       "      <th></th>\n",
       "      <th>Loyalty Number</th>\n",
       "      <th>Country</th>\n",
       "      <th>Province</th>\n",
       "      <th>City</th>\n",
       "      <th>Postal Code</th>\n",
       "      <th>Gender</th>\n",
       "      <th>Education</th>\n",
       "      <th>Salary</th>\n",
       "      <th>Marital Status</th>\n",
       "      <th>Loyalty Card</th>\n",
       "      <th>CLV</th>\n",
       "      <th>Enrollment Type</th>\n",
       "      <th>Enrollment Year</th>\n",
       "      <th>Enrollment Month</th>\n",
       "      <th>Cancellation Year</th>\n",
       "      <th>Cancellation Month</th>\n",
       "    </tr>\n",
       "  </thead>\n",
       "  <tbody>\n",
       "    <tr>\n",
       "      <th>0</th>\n",
       "      <td>480934</td>\n",
       "      <td>Canada</td>\n",
       "      <td>Ontario</td>\n",
       "      <td>Toronto</td>\n",
       "      <td>M2Z 4K1</td>\n",
       "      <td>Female</td>\n",
       "      <td>Bachelor</td>\n",
       "      <td>83236.0</td>\n",
       "      <td>Married</td>\n",
       "      <td>Star</td>\n",
       "      <td>3839.14</td>\n",
       "      <td>Standard</td>\n",
       "      <td>2016</td>\n",
       "      <td>2</td>\n",
       "      <td>NaN</td>\n",
       "      <td>NaN</td>\n",
       "    </tr>\n",
       "    <tr>\n",
       "      <th>1</th>\n",
       "      <td>549612</td>\n",
       "      <td>Canada</td>\n",
       "      <td>Alberta</td>\n",
       "      <td>Edmonton</td>\n",
       "      <td>T3G 6Y6</td>\n",
       "      <td>Male</td>\n",
       "      <td>College</td>\n",
       "      <td>NaN</td>\n",
       "      <td>Divorced</td>\n",
       "      <td>Star</td>\n",
       "      <td>3839.61</td>\n",
       "      <td>Standard</td>\n",
       "      <td>2016</td>\n",
       "      <td>3</td>\n",
       "      <td>NaN</td>\n",
       "      <td>NaN</td>\n",
       "    </tr>\n",
       "    <tr>\n",
       "      <th>2</th>\n",
       "      <td>429460</td>\n",
       "      <td>Canada</td>\n",
       "      <td>British Columbia</td>\n",
       "      <td>Vancouver</td>\n",
       "      <td>V6E 3D9</td>\n",
       "      <td>Male</td>\n",
       "      <td>College</td>\n",
       "      <td>NaN</td>\n",
       "      <td>Single</td>\n",
       "      <td>Star</td>\n",
       "      <td>3839.75</td>\n",
       "      <td>Standard</td>\n",
       "      <td>2014</td>\n",
       "      <td>7</td>\n",
       "      <td>2018.0</td>\n",
       "      <td>1.0</td>\n",
       "    </tr>\n",
       "    <tr>\n",
       "      <th>3</th>\n",
       "      <td>608370</td>\n",
       "      <td>Canada</td>\n",
       "      <td>Ontario</td>\n",
       "      <td>Toronto</td>\n",
       "      <td>P1W 1K4</td>\n",
       "      <td>Male</td>\n",
       "      <td>College</td>\n",
       "      <td>NaN</td>\n",
       "      <td>Single</td>\n",
       "      <td>Star</td>\n",
       "      <td>3839.75</td>\n",
       "      <td>Standard</td>\n",
       "      <td>2013</td>\n",
       "      <td>2</td>\n",
       "      <td>NaN</td>\n",
       "      <td>NaN</td>\n",
       "    </tr>\n",
       "    <tr>\n",
       "      <th>4</th>\n",
       "      <td>530508</td>\n",
       "      <td>Canada</td>\n",
       "      <td>Quebec</td>\n",
       "      <td>Hull</td>\n",
       "      <td>J8Y 3Z5</td>\n",
       "      <td>Male</td>\n",
       "      <td>Bachelor</td>\n",
       "      <td>103495.0</td>\n",
       "      <td>Married</td>\n",
       "      <td>Star</td>\n",
       "      <td>3842.79</td>\n",
       "      <td>Standard</td>\n",
       "      <td>2014</td>\n",
       "      <td>10</td>\n",
       "      <td>NaN</td>\n",
       "      <td>NaN</td>\n",
       "    </tr>\n",
       "  </tbody>\n",
       "</table>\n",
       "</div>"
      ],
      "text/plain": [
       "   Loyalty Number Country          Province       City Postal Code  Gender  \\\n",
       "0          480934  Canada           Ontario    Toronto     M2Z 4K1  Female   \n",
       "1          549612  Canada           Alberta   Edmonton     T3G 6Y6    Male   \n",
       "2          429460  Canada  British Columbia  Vancouver     V6E 3D9    Male   \n",
       "3          608370  Canada           Ontario    Toronto     P1W 1K4    Male   \n",
       "4          530508  Canada            Quebec       Hull     J8Y 3Z5    Male   \n",
       "\n",
       "  Education    Salary Marital Status Loyalty Card      CLV Enrollment Type  \\\n",
       "0  Bachelor   83236.0        Married         Star  3839.14        Standard   \n",
       "1   College       NaN       Divorced         Star  3839.61        Standard   \n",
       "2   College       NaN         Single         Star  3839.75        Standard   \n",
       "3   College       NaN         Single         Star  3839.75        Standard   \n",
       "4  Bachelor  103495.0        Married         Star  3842.79        Standard   \n",
       "\n",
       "   Enrollment Year  Enrollment Month  Cancellation Year  Cancellation Month  \n",
       "0             2016                 2                NaN                 NaN  \n",
       "1             2016                 3                NaN                 NaN  \n",
       "2             2014                 7             2018.0                 1.0  \n",
       "3             2013                 2                NaN                 NaN  \n",
       "4             2014                10                NaN                 NaN  "
      ]
     },
     "execution_count": 4,
     "metadata": {},
     "output_type": "execute_result"
    }
   ],
   "source": [
    "#Apertura archivo 2\n",
    "df_cust_loyal= pd.read_csv(\"customer_loyalty_history.csv\")\n",
    "\n",
    "pd.set_option('display.max_columns', None)\n",
    "\n",
    "# 5 primeras filas del data frame\n",
    "\n",
    "df_cust_loyal.head()"
   ]
  },
  {
   "cell_type": "markdown",
   "metadata": {},
   "source": [
    "`Exploración general de archivos`"
   ]
  },
  {
   "cell_type": "code",
   "execution_count": 14,
   "metadata": {},
   "outputs": [
    {
     "name": "stdout",
     "output_type": "stream",
     "text": [
      "Análisis general de CUSTOMER FLIGHT \n",
      "\n",
      "<class 'pandas.core.frame.DataFrame'>\n",
      "RangeIndex: 405624 entries, 0 to 405623\n",
      "Data columns (total 10 columns):\n",
      " #   Column                       Non-Null Count   Dtype  \n",
      "---  ------                       --------------   -----  \n",
      " 0   Loyalty Number               405624 non-null  int64  \n",
      " 1   Year                         405624 non-null  int64  \n",
      " 2   Month                        405624 non-null  int64  \n",
      " 3   Flights Booked               405624 non-null  int64  \n",
      " 4   Flights with Companions      405624 non-null  int64  \n",
      " 5   Total Flights                405624 non-null  int64  \n",
      " 6   Distance                     405624 non-null  int64  \n",
      " 7   Points Accumulated           405624 non-null  float64\n",
      " 8   Points Redeemed              405624 non-null  int64  \n",
      " 9   Dollar Cost Points Redeemed  405624 non-null  int64  \n",
      "dtypes: float64(1), int64(9)\n",
      "memory usage: 30.9 MB\n",
      "None\n",
      "\n",
      "----------------------\n",
      "\n",
      "El número de filas que tenemos en customer_flight son : 405624, y el número de columnas es: 10\n",
      "\n",
      "----------------------\n",
      "\n",
      "Las columnas numéricas son:Index(['Loyalty Number', 'Year', 'Month', 'Flights Booked',\n",
      "       'Flights with Companions', 'Total Flights', 'Distance',\n",
      "       'Points Accumulated', 'Points Redeemed', 'Dollar Cost Points Redeemed'],\n",
      "      dtype='object')\n",
      "\n",
      "----------------------\n",
      "\n",
      "Las columnas categóricas son:Index([], dtype='object')\n",
      "\n",
      "----------------------\n",
      "\n",
      "Las columnas categóricas que tienen nulos son : \n",
      " \n",
      "Index([], dtype='object')\n",
      "Las columnas numéricas que tienen nulos son : \n",
      " \n",
      "Index([], dtype='object')\n"
     ]
    }
   ],
   "source": [
    "# Exploración detallada vuelos realizados por clientes\n",
    "print('Análisis general de CUSTOMER FLIGHT \\n')\n",
    "print(df_cust_flight.info())\n",
    "print('\\n----------------------\\n')\n",
    "\n",
    "# Cantidad de columnas y filas \n",
    "print(f\"El número de filas que tenemos en customer_flight son : {df_cust_flight.shape[0]}, y el número de columnas es: {df_cust_flight.shape[1]}\")\n",
    "print('\\n----------------------\\n')\n",
    "\n",
    "# Columnas numéricas y catégoricas \n",
    "print(f\"Las columnas numéricas son:{df_cust_flight.select_dtypes(include = np.number).columns}\")\n",
    "print('\\n----------------------\\n')\n",
    "print(f\"Las columnas categóricas son:{df_cust_flight.select_dtypes(include = \"O\").columns}\")\n",
    "print('\\n----------------------\\n')\n",
    "\n",
    "# Nulos Categóricas \n",
    "nulos_cat = df_cust_flight[df_cust_flight.columns[df_cust_flight.isnull().any()]].select_dtypes(include = \"O\").columns\n",
    "print(\"Las columnas categóricas que tienen nulos son : \\n \")\n",
    "print(nulos_cat)\n",
    "\n",
    "# Nulos Numéricos\n",
    "nulos_num = df_cust_flight[df_cust_flight.columns[df_cust_flight.isnull().any()]].select_dtypes(include = np.number).columns\n",
    "print(\"Las columnas numéricas que tienen nulos son : \\n \")\n",
    "print(nulos_num)"
   ]
  },
  {
   "cell_type": "markdown",
   "metadata": {},
   "source": [
    "*Se observa:*\n",
    "- En la exploración inicial de \"Customer Flight Analysis\"se identifica que no hay nulos y todos son number.\n",
    "\n",
    "- Se puede hacer cambio de tipo de dato a int de Points Accumulated"
   ]
  },
  {
   "cell_type": "code",
   "execution_count": 15,
   "metadata": {},
   "outputs": [
    {
     "name": "stdout",
     "output_type": "stream",
     "text": [
      "Análisis general de CUSTOMER LOYALTY \n",
      "\n",
      "<class 'pandas.core.frame.DataFrame'>\n",
      "RangeIndex: 16737 entries, 0 to 16736\n",
      "Data columns (total 16 columns):\n",
      " #   Column              Non-Null Count  Dtype  \n",
      "---  ------              --------------  -----  \n",
      " 0   Loyalty Number      16737 non-null  int64  \n",
      " 1   Country             16737 non-null  object \n",
      " 2   Province            16737 non-null  object \n",
      " 3   City                16737 non-null  object \n",
      " 4   Postal Code         16737 non-null  object \n",
      " 5   Gender              16737 non-null  object \n",
      " 6   Education           16737 non-null  object \n",
      " 7   Salary              12499 non-null  float64\n",
      " 8   Marital Status      16737 non-null  object \n",
      " 9   Loyalty Card        16737 non-null  object \n",
      " 10  CLV                 16737 non-null  float64\n",
      " 11  Enrollment Type     16737 non-null  object \n",
      " 12  Enrollment Year     16737 non-null  int64  \n",
      " 13  Enrollment Month    16737 non-null  int64  \n",
      " 14  Cancellation Year   2067 non-null   float64\n",
      " 15  Cancellation Month  2067 non-null   float64\n",
      "dtypes: float64(4), int64(3), object(9)\n",
      "memory usage: 2.0+ MB\n",
      "None\n",
      "\n",
      "----------------------\n",
      "\n",
      "El número de filas que tenemos en customer_flight son : 16737, y el número de columnas es: 16\n",
      "\n",
      "----------------------\n",
      "\n",
      "Las columnas numéricas son:Index(['Loyalty Number', 'Salary', 'CLV', 'Enrollment Year',\n",
      "       'Enrollment Month', 'Cancellation Year', 'Cancellation Month'],\n",
      "      dtype='object')\n",
      "\n",
      "----------------------\n",
      "\n",
      "Las columnas categóricas son:Index(['Country', 'Province', 'City', 'Postal Code', 'Gender', 'Education',\n",
      "       'Marital Status', 'Loyalty Card', 'Enrollment Type'],\n",
      "      dtype='object')\n",
      "\n",
      "----------------------\n",
      "\n",
      "Las columnas categóricas que tienen nulos son : \n",
      " \n",
      "Index([], dtype='object')\n",
      "Las columnas numéricas que tienen nulos son : \n",
      " \n",
      "Index(['Salary', 'Cancellation Year', 'Cancellation Month'], dtype='object')\n"
     ]
    }
   ],
   "source": [
    "# Exploración detallada información de clientes\n",
    "print('Análisis general de CUSTOMER LOYALTY \\n')\n",
    "print(df_cust_loyal.info())\n",
    "print('\\n----------------------\\n')\n",
    "\n",
    "# Cantidad de columnas y filas \n",
    "print(f\"El número de filas que tenemos en customer_flight son : {df_cust_loyal.shape[0]}, y el número de columnas es: {df_cust_loyal.shape[1]}\")\n",
    "print('\\n----------------------\\n')\n",
    "\n",
    "# Columnas numéricas y catégoricas \n",
    "print(f\"Las columnas numéricas son:{df_cust_loyal.select_dtypes(include = np.number).columns}\")\n",
    "print('\\n----------------------\\n')\n",
    "print(f\"Las columnas categóricas son:{df_cust_loyal.select_dtypes(include = \"O\").columns}\")\n",
    "print('\\n----------------------\\n')\n",
    "\n",
    "# Nulos Categóricas \n",
    "nulos_cat = df_cust_loyal[df_cust_loyal.columns[df_cust_loyal.isnull().any()]].select_dtypes(include = \"O\").columns\n",
    "print(\"Las columnas categóricas que tienen nulos son : \\n \")\n",
    "print(nulos_cat)\n",
    "\n",
    "# Nulos Numéricos\n",
    "nulos_num = df_cust_loyal[df_cust_loyal.columns[df_cust_loyal.isnull().any()]].select_dtypes(include = np.number).columns\n",
    "print(\"Las columnas numéricas que tienen nulos son : \\n \")\n",
    "print(nulos_num)"
   ]
  },
  {
   "cell_type": "markdown",
   "metadata": {},
   "source": [
    "*Se oberva:*\n",
    "- Datos nulos para columnas numéricas: ['Salary', 'Cancellation Year', 'Cancellation Month']\n",
    "\n",
    "- Cancellation Month, Cancellation Year, Salary - podría cambiarse a tipo de dato int"
   ]
  },
  {
   "cell_type": "markdown",
   "metadata": {},
   "source": [
    "`Duplicados`"
   ]
  },
  {
   "cell_type": "markdown",
   "metadata": {},
   "source": [
    "- **Customer flight**"
   ]
  },
  {
   "cell_type": "code",
   "execution_count": 102,
   "metadata": {},
   "outputs": [
    {
     "data": {
      "text/plain": [
       "1864"
      ]
     },
     "execution_count": 102,
     "metadata": {},
     "output_type": "execute_result"
    }
   ],
   "source": [
    "df_cust_flight.duplicated().sum()"
   ]
  },
  {
   "cell_type": "code",
   "execution_count": 103,
   "metadata": {},
   "outputs": [],
   "source": [
    "df_cust_flight1 = df_cust_flight.drop_duplicates()"
   ]
  },
  {
   "cell_type": "code",
   "execution_count": 104,
   "metadata": {},
   "outputs": [
    {
     "data": {
      "text/plain": [
       "0"
      ]
     },
     "execution_count": 104,
     "metadata": {},
     "output_type": "execute_result"
    }
   ],
   "source": [
    "df_cust_flight1.duplicated().sum()"
   ]
  },
  {
   "cell_type": "markdown",
   "metadata": {},
   "source": [
    "- **Customer loyalty**"
   ]
  },
  {
   "cell_type": "code",
   "execution_count": 91,
   "metadata": {},
   "outputs": [
    {
     "data": {
      "text/plain": [
       "0"
      ]
     },
     "execution_count": 91,
     "metadata": {},
     "output_type": "execute_result"
    }
   ],
   "source": [
    "df_cust_loyal.duplicated().sum()"
   ]
  },
  {
   "cell_type": "markdown",
   "metadata": {},
   "source": [
    "`Conformación de los datos`"
   ]
  },
  {
   "cell_type": "markdown",
   "metadata": {},
   "source": [
    "- Customer flight"
   ]
  },
  {
   "cell_type": "code",
   "execution_count": 92,
   "metadata": {},
   "outputs": [
    {
     "name": "stdout",
     "output_type": "stream",
     "text": [
      "La distribución de las categorías para la columna LOYALTY NUMBER\n"
     ]
    },
    {
     "data": {
      "text/plain": [
       "Loyalty Number\n",
       "974875    0.000119\n",
       "736504    0.000119\n",
       "890702    0.000119\n",
       "617489    0.000119\n",
       "200519    0.000116\n",
       "            ...   \n",
       "428402    0.000059\n",
       "428452    0.000059\n",
       "428520    0.000059\n",
       "428523    0.000059\n",
       "999891    0.000059\n",
       "Name: count, Length: 16737, dtype: float64"
      ]
     },
     "metadata": {},
     "output_type": "display_data"
    },
    {
     "name": "stdout",
     "output_type": "stream",
     "text": [
      "........................\n",
      "La distribución de las categorías para la columna YEAR\n"
     ]
    },
    {
     "data": {
      "text/plain": [
       "Year\n",
       "2018    0.500352\n",
       "2017    0.499648\n",
       "Name: count, dtype: float64"
      ]
     },
     "metadata": {},
     "output_type": "display_data"
    },
    {
     "name": "stdout",
     "output_type": "stream",
     "text": [
      "........................\n",
      "La distribución de las categorías para la columna MONTH\n"
     ]
    },
    {
     "data": {
      "text/plain": [
       "Month\n",
       "11    0.083374\n",
       "10    0.083371\n",
       "12    0.083371\n",
       "9     0.083364\n",
       "8     0.083354\n",
       "7     0.083337\n",
       "6     0.083332\n",
       "4     0.083317\n",
       "5     0.083317\n",
       "3     0.083302\n",
       "2     0.083282\n",
       "1     0.083280\n",
       "Name: count, dtype: float64"
      ]
     },
     "metadata": {},
     "output_type": "display_data"
    },
    {
     "name": "stdout",
     "output_type": "stream",
     "text": [
      "........................\n",
      "La distribución de las categorías para la columna FLIGHTS BOOKED\n"
     ]
    },
    {
     "data": {
      "text/plain": [
       "Flights Booked\n",
       "0     0.485754\n",
       "3     0.045146\n",
       "11    0.038897\n",
       "5     0.037359\n",
       "7     0.036064\n",
       "8     0.035558\n",
       "9     0.035080\n",
       "6     0.034295\n",
       "2     0.033785\n",
       "10    0.033096\n",
       "4     0.031754\n",
       "1     0.031373\n",
       "13    0.026704\n",
       "12    0.025713\n",
       "14    0.017478\n",
       "15    0.016302\n",
       "16    0.010784\n",
       "17    0.009657\n",
       "18    0.007326\n",
       "19    0.003705\n",
       "20    0.002863\n",
       "21    0.001308\n",
       "Name: count, dtype: float64"
      ]
     },
     "metadata": {},
     "output_type": "display_data"
    },
    {
     "name": "stdout",
     "output_type": "stream",
     "text": [
      "........................\n",
      "La distribución de las categorías para la columna FLIGHTS WITH COMPANIONS\n"
     ]
    },
    {
     "data": {
      "text/plain": [
       "Flights with Companions\n",
       "0     0.730689\n",
       "2     0.047731\n",
       "3     0.047095\n",
       "1     0.044346\n",
       "4     0.033844\n",
       "5     0.033247\n",
       "6     0.024547\n",
       "7     0.017557\n",
       "8     0.009820\n",
       "9     0.007291\n",
       "10    0.002653\n",
       "11    0.001179\n",
       "Name: count, dtype: float64"
      ]
     },
     "metadata": {},
     "output_type": "display_data"
    },
    {
     "name": "stdout",
     "output_type": "stream",
     "text": [
      "........................\n",
      "La distribución de las categorías para la columna TOTAL FLIGHTS\n"
     ]
    },
    {
     "data": {
      "text/plain": [
       "Total Flights\n",
       "0     0.485754\n",
       "6     0.037827\n",
       "10    0.035647\n",
       "8     0.034813\n",
       "4     0.033822\n",
       "2     0.032277\n",
       "12    0.030734\n",
       "11    0.030464\n",
       "9     0.026471\n",
       "13    0.026003\n",
       "14    0.025535\n",
       "7     0.024453\n",
       "3     0.024230\n",
       "5     0.023056\n",
       "15    0.021161\n",
       "16    0.019138\n",
       "17    0.015351\n",
       "1     0.015123\n",
       "18    0.014258\n",
       "19    0.009912\n",
       "20    0.008463\n",
       "21    0.006464\n",
       "22    0.004906\n",
       "23    0.004002\n",
       "24    0.002994\n",
       "25    0.002229\n",
       "26    0.001788\n",
       "27    0.001248\n",
       "28    0.000758\n",
       "29    0.000530\n",
       "30    0.000372\n",
       "31    0.000151\n",
       "32    0.000067\n",
       "Name: count, dtype: float64"
      ]
     },
     "metadata": {},
     "output_type": "display_data"
    },
    {
     "name": "stdout",
     "output_type": "stream",
     "text": [
      "........................\n",
      "La distribución de las categorías para la columna DISTANCE\n"
     ]
    },
    {
     "data": {
      "text/plain": [
       "Distance\n",
       "0       0.485754\n",
       "2520    0.001015\n",
       "2880    0.000993\n",
       "1680    0.000963\n",
       "2160    0.000904\n",
       "          ...   \n",
       "1333    0.000002\n",
       "3722    0.000002\n",
       "3985    0.000002\n",
       "4779    0.000002\n",
       "4135    0.000002\n",
       "Name: count, Length: 4746, dtype: float64"
      ]
     },
     "metadata": {},
     "output_type": "display_data"
    },
    {
     "name": "stdout",
     "output_type": "stream",
     "text": [
      "........................\n",
      "La distribución de las categorías para la columna POINTS ACCUMULATED\n"
     ]
    },
    {
     "data": {
      "text/plain": [
       "Points Accumulated\n",
       "0.00      0.485754\n",
       "180.00    0.001890\n",
       "270.00    0.001818\n",
       "288.00    0.001776\n",
       "189.00    0.001756\n",
       "            ...   \n",
       "658.50    0.000002\n",
       "556.25    0.000002\n",
       "10.80     0.000002\n",
       "565.50    0.000002\n",
       "626.00    0.000002\n",
       "Name: count, Length: 1549, dtype: float64"
      ]
     },
     "metadata": {},
     "output_type": "display_data"
    },
    {
     "name": "stdout",
     "output_type": "stream",
     "text": [
      "........................\n",
      "La distribución de las categorías para la columna POINTS REDEEMED\n"
     ]
    },
    {
     "data": {
      "text/plain": [
       "Points Redeemed\n",
       "0      0.940110\n",
       "447    0.000255\n",
       "523    0.000248\n",
       "443    0.000243\n",
       "516    0.000240\n",
       "         ...   \n",
       "834    0.000002\n",
       "858    0.000002\n",
       "862    0.000002\n",
       "869    0.000002\n",
       "859    0.000002\n",
       "Name: count, Length: 587, dtype: float64"
      ]
     },
     "metadata": {},
     "output_type": "display_data"
    },
    {
     "name": "stdout",
     "output_type": "stream",
     "text": [
      "........................\n",
      "La distribución de las categorías para la columna DOLLAR COST POINTS REDEEMED\n"
     ]
    },
    {
     "data": {
      "text/plain": [
       "Dollar Cost Points Redeemed\n",
       "0     0.940110\n",
       "36    0.002568\n",
       "38    0.002479\n",
       "40    0.002459\n",
       "42    0.002435\n",
       "39    0.002336\n",
       "44    0.002286\n",
       "41    0.002261\n",
       "37    0.002197\n",
       "43    0.002172\n",
       "35    0.002110\n",
       "34    0.002090\n",
       "32    0.002023\n",
       "33    0.001981\n",
       "45    0.001929\n",
       "30    0.001912\n",
       "46    0.001865\n",
       "31    0.001788\n",
       "47    0.001672\n",
       "48    0.001580\n",
       "28    0.001481\n",
       "29    0.001476\n",
       "50    0.001474\n",
       "49    0.001407\n",
       "52    0.001194\n",
       "51    0.001077\n",
       "27    0.001043\n",
       "54    0.000996\n",
       "26    0.000939\n",
       "53    0.000934\n",
       "56    0.000904\n",
       "55    0.000850\n",
       "57    0.000679\n",
       "58    0.000656\n",
       "60    0.000644\n",
       "59    0.000542\n",
       "25    0.000518\n",
       "61    0.000433\n",
       "63    0.000433\n",
       "62    0.000384\n",
       "64    0.000376\n",
       "24    0.000272\n",
       "66    0.000263\n",
       "65    0.000223\n",
       "68    0.000211\n",
       "67    0.000168\n",
       "70    0.000094\n",
       "69    0.000069\n",
       "71    0.000005\n",
       "Name: count, dtype: float64"
      ]
     },
     "metadata": {},
     "output_type": "display_data"
    },
    {
     "name": "stdout",
     "output_type": "stream",
     "text": [
      "........................\n"
     ]
    }
   ],
   "source": [
    "for col in df_cust_flight1.columns:\n",
    "    print(f\"La distribución de las categorías para la columna {col.upper()}\")\n",
    "    display(df_cust_flight1[col].value_counts() / df_cust_flight1.shape[0])  \n",
    "    print(\"........................\")"
   ]
  },
  {
   "cell_type": "markdown",
   "metadata": {},
   "source": [
    "- **Customer loyalty**"
   ]
  },
  {
   "cell_type": "code",
   "execution_count": 24,
   "metadata": {},
   "outputs": [
    {
     "name": "stdout",
     "output_type": "stream",
     "text": [
      "La distribución de las categorías para la columna LOYALTY NUMBER\n"
     ]
    },
    {
     "data": {
      "text/plain": [
       "Loyalty Number\n",
       "480934    0.00006\n",
       "208485    0.00006\n",
       "455896    0.00006\n",
       "469781    0.00006\n",
       "533488    0.00006\n",
       "           ...   \n",
       "922188    0.00006\n",
       "780529    0.00006\n",
       "721438    0.00006\n",
       "761015    0.00006\n",
       "652627    0.00006\n",
       "Name: count, Length: 16737, dtype: float64"
      ]
     },
     "metadata": {},
     "output_type": "display_data"
    },
    {
     "name": "stdout",
     "output_type": "stream",
     "text": [
      "........................\n",
      "La distribución de las categorías para la columna COUNTRY\n"
     ]
    },
    {
     "data": {
      "text/plain": [
       "Country\n",
       "Canada    1.0\n",
       "Name: count, dtype: float64"
      ]
     },
     "metadata": {},
     "output_type": "display_data"
    },
    {
     "name": "stdout",
     "output_type": "stream",
     "text": [
      "........................\n",
      "La distribución de las categorías para la columna PROVINCE\n"
     ]
    },
    {
     "data": {
      "text/plain": [
       "Province\n",
       "Ontario                 0.322877\n",
       "British Columbia        0.263428\n",
       "Quebec                  0.197168\n",
       "Alberta                 0.057896\n",
       "Manitoba                0.039314\n",
       "New Brunswick           0.038000\n",
       "Nova Scotia             0.030949\n",
       "Saskatchewan            0.024437\n",
       "Newfoundland            0.015415\n",
       "Yukon                   0.006572\n",
       "Prince Edward Island    0.003943\n",
       "Name: count, dtype: float64"
      ]
     },
     "metadata": {},
     "output_type": "display_data"
    },
    {
     "name": "stdout",
     "output_type": "stream",
     "text": [
      "........................\n",
      "La distribución de las categorías para la columna CITY\n"
     ]
    },
    {
     "data": {
      "text/plain": [
       "City\n",
       "Toronto           0.200215\n",
       "Vancouver         0.154269\n",
       "Montreal          0.123021\n",
       "Winnipeg          0.039314\n",
       "Whistler          0.034773\n",
       "Halifax           0.030949\n",
       "Ottawa            0.030412\n",
       "Trenton           0.029037\n",
       "Edmonton          0.029037\n",
       "Quebec City       0.028978\n",
       "Dawson Creek      0.026528\n",
       "Fredericton       0.025393\n",
       "Regina            0.024437\n",
       "Kingston          0.023959\n",
       "Tremblant         0.023780\n",
       "Victoria          0.023242\n",
       "Hull              0.021390\n",
       "West Vancouver    0.019358\n",
       "St. John's        0.015415\n",
       "Thunder Bay       0.015295\n",
       "Sudbury           0.013563\n",
       "Moncton           0.012607\n",
       "Calgary           0.011412\n",
       "Banff             0.010695\n",
       "London            0.010396\n",
       "Peace River       0.006752\n",
       "Whitehorse        0.006572\n",
       "Kelowna           0.005258\n",
       "Charlottetown     0.003943\n",
       "Name: count, dtype: float64"
      ]
     },
     "metadata": {},
     "output_type": "display_data"
    },
    {
     "name": "stdout",
     "output_type": "stream",
     "text": [
      "........................\n",
      "La distribución de las categorías para la columna POSTAL CODE\n"
     ]
    },
    {
     "data": {
      "text/plain": [
       "Postal Code\n",
       "V6E 3D9    0.054430\n",
       "V5R 1W3    0.040868\n",
       "V6T 1Y8    0.034773\n",
       "V6E 3Z3    0.032503\n",
       "M2M 7K8    0.031905\n",
       "P1J 8T7    0.029874\n",
       "H2T 9K8    0.029814\n",
       "K8V 4B2    0.029037\n",
       "G1B 3L5    0.028978\n",
       "H2T 2J6    0.026648\n",
       "U5I 4F1    0.026528\n",
       "V1E 4R6    0.026468\n",
       "E3B 2H2    0.025393\n",
       "R2C 0M5    0.024795\n",
       "M9K 2P4    0.023959\n",
       "H5Y 2S9    0.023780\n",
       "V10 6T5    0.023242\n",
       "K1F 2R2    0.023242\n",
       "H2Y 2W2    0.021808\n",
       "J8Y 3Z5    0.021390\n",
       "M8Y 4K8    0.020314\n",
       "H4G 3T4    0.020195\n",
       "B3J 9S2    0.019657\n",
       "V6V 8Z3    0.019358\n",
       "P2T 6G3    0.019239\n",
       "H2Y 4R4    0.018821\n",
       "M1R 4K3    0.018701\n",
       "P1L 8X8    0.016849\n",
       "P1W 1K4    0.016431\n",
       "T9G 1W3    0.015893\n",
       "A1C 6H9    0.015415\n",
       "M2Z 4K1    0.015355\n",
       "K8T 5M5    0.015295\n",
       "P5S 6R4    0.014698\n",
       "M5V 1G5    0.013563\n",
       "S6J 3G0    0.013503\n",
       "T3G 6Y6    0.013145\n",
       "E1A 2A7    0.012607\n",
       "T3E 2V9    0.011412\n",
       "B3C 2M8    0.011292\n",
       "S1J 3C5    0.010934\n",
       "T4V 1D4    0.010695\n",
       "M5B 3E4    0.010396\n",
       "M2M 6J7    0.009141\n",
       "R6Y 4T5    0.008544\n",
       "M2P 4F6    0.007528\n",
       "K1G 4Z0    0.007170\n",
       "T9O 2W2    0.006752\n",
       "Y2K 6R0    0.006572\n",
       "R3R 3T4    0.005975\n",
       "H3T 8L4    0.005318\n",
       "V09 2E9    0.005258\n",
       "C1A 6E8    0.003943\n",
       "H3J 5I6    0.000418\n",
       "M3R 4K8    0.000179\n",
       "Name: count, dtype: float64"
      ]
     },
     "metadata": {},
     "output_type": "display_data"
    },
    {
     "name": "stdout",
     "output_type": "stream",
     "text": [
      "........................\n",
      "La distribución de las categorías para la columna GENDER\n"
     ]
    },
    {
     "data": {
      "text/plain": [
       "Gender\n",
       "Female    0.50248\n",
       "Male      0.49752\n",
       "Name: count, dtype: float64"
      ]
     },
     "metadata": {},
     "output_type": "display_data"
    },
    {
     "name": "stdout",
     "output_type": "stream",
     "text": [
      "........................\n",
      "La distribución de las categorías para la columna EDUCATION\n"
     ]
    },
    {
     "data": {
      "text/plain": [
       "Education\n",
       "Bachelor                0.625859\n",
       "College                 0.253211\n",
       "High School or Below    0.046723\n",
       "Doctor                  0.043855\n",
       "Master                  0.030352\n",
       "Name: count, dtype: float64"
      ]
     },
     "metadata": {},
     "output_type": "display_data"
    },
    {
     "name": "stdout",
     "output_type": "stream",
     "text": [
      "........................\n",
      "La distribución de las categorías para la columna SALARY\n"
     ]
    },
    {
     "data": {
      "text/plain": [
       "Salary\n",
       " 101933.0    0.001374\n",
       " 62283.0     0.000836\n",
       " 61809.0     0.000836\n",
       " 51573.0     0.000836\n",
       " 64001.0     0.000777\n",
       "               ...   \n",
       " 95907.0     0.000060\n",
       " 72440.0     0.000060\n",
       " 88633.0     0.000060\n",
       " 100572.0    0.000060\n",
       "-57297.0     0.000060\n",
       "Name: count, Length: 5890, dtype: float64"
      ]
     },
     "metadata": {},
     "output_type": "display_data"
    },
    {
     "name": "stdout",
     "output_type": "stream",
     "text": [
      "........................\n",
      "La distribución de las categorías para la columna MARITAL STATUS\n"
     ]
    },
    {
     "data": {
      "text/plain": [
       "Marital Status\n",
       "Married     0.581645\n",
       "Single      0.267909\n",
       "Divorced    0.150445\n",
       "Name: count, dtype: float64"
      ]
     },
     "metadata": {},
     "output_type": "display_data"
    },
    {
     "name": "stdout",
     "output_type": "stream",
     "text": [
      "........................\n",
      "La distribución de las categorías para la columna LOYALTY CARD\n"
     ]
    },
    {
     "data": {
      "text/plain": [
       "Loyalty Card\n",
       "Star      0.456294\n",
       "Nova      0.338830\n",
       "Aurora    0.204875\n",
       "Name: count, dtype: float64"
      ]
     },
     "metadata": {},
     "output_type": "display_data"
    },
    {
     "name": "stdout",
     "output_type": "stream",
     "text": [
      "........................\n",
      "La distribución de las categorías para la columna CLV\n"
     ]
    },
    {
     "data": {
      "text/plain": [
       "CLV\n",
       "8564.77     0.000777\n",
       "13024.13    0.000717\n",
       "3808.12     0.000717\n",
       "2359.42     0.000717\n",
       "3731.50     0.000717\n",
       "              ...   \n",
       "16152.90    0.000060\n",
       "5204.65     0.000060\n",
       "5620.59     0.000060\n",
       "5205.02     0.000060\n",
       "61134.68    0.000060\n",
       "Name: count, Length: 7984, dtype: float64"
      ]
     },
     "metadata": {},
     "output_type": "display_data"
    },
    {
     "name": "stdout",
     "output_type": "stream",
     "text": [
      "........................\n",
      "La distribución de las categorías para la columna ENROLLMENT TYPE\n"
     ]
    },
    {
     "data": {
      "text/plain": [
       "Enrollment Type\n",
       "Standard          0.941985\n",
       "2018 Promotion    0.058015\n",
       "Name: count, dtype: float64"
      ]
     },
     "metadata": {},
     "output_type": "display_data"
    },
    {
     "name": "stdout",
     "output_type": "stream",
     "text": [
      "........................\n",
      "La distribución de las categorías para la columna ENROLLMENT YEAR\n"
     ]
    },
    {
     "data": {
      "text/plain": [
       "Enrollment Year\n",
       "2018    0.179841\n",
       "2017    0.148593\n",
       "2016    0.146741\n",
       "2013    0.143216\n",
       "2014    0.141602\n",
       "2015    0.139272\n",
       "2012    0.100735\n",
       "Name: count, dtype: float64"
      ]
     },
     "metadata": {},
     "output_type": "display_data"
    },
    {
     "name": "stdout",
     "output_type": "stream",
     "text": [
      "........................\n",
      "La distribución de las categorías para la columna ENROLLMENT MONTH\n"
     ]
    },
    {
     "data": {
      "text/plain": [
       "Enrollment Month\n",
       "5     0.089801\n",
       "12    0.088427\n",
       "7     0.088009\n",
       "11    0.086395\n",
       "10    0.086276\n",
       "8     0.085439\n",
       "6     0.084364\n",
       "9     0.083109\n",
       "4     0.082930\n",
       "3     0.081138\n",
       "2     0.072892\n",
       "1     0.071219\n",
       "Name: count, dtype: float64"
      ]
     },
     "metadata": {},
     "output_type": "display_data"
    },
    {
     "name": "stdout",
     "output_type": "stream",
     "text": [
      "........................\n",
      "La distribución de las categorías para la columna CANCELLATION YEAR\n"
     ]
    },
    {
     "data": {
      "text/plain": [
       "Cancellation Year\n",
       "2018.0    0.038537\n",
       "2017.0    0.030232\n",
       "2016.0    0.025512\n",
       "2015.0    0.015833\n",
       "2014.0    0.010814\n",
       "2013.0    0.002569\n",
       "Name: count, dtype: float64"
      ]
     },
     "metadata": {},
     "output_type": "display_data"
    },
    {
     "name": "stdout",
     "output_type": "stream",
     "text": [
      "........................\n",
      "La distribución de las categorías para la columna CANCELLATION MONTH\n"
     ]
    },
    {
     "data": {
      "text/plain": [
       "Cancellation Month\n",
       "12.0    0.012726\n",
       "11.0    0.012667\n",
       "8.0     0.012428\n",
       "7.0     0.011113\n",
       "10.0    0.010755\n",
       "9.0     0.010516\n",
       "6.0     0.009858\n",
       "1.0     0.009261\n",
       "3.0     0.008902\n",
       "5.0     0.008843\n",
       "2.0     0.008305\n",
       "4.0     0.008126\n",
       "Name: count, dtype: float64"
      ]
     },
     "metadata": {},
     "output_type": "display_data"
    },
    {
     "name": "stdout",
     "output_type": "stream",
     "text": [
      "........................\n"
     ]
    }
   ],
   "source": [
    "for col in df_cust_loyal.columns:\n",
    "    print(f\"La distribución de las categorías para la columna {col.upper()}\")\n",
    "    display(df_cust_loyal[col].value_counts() / df_cust_loyal.shape[0])  # display es una función utilizada para mostrar objetos de manera más legible en Jupyter Notebooks o entornos similares. \n",
    "    print(\"........................\")"
   ]
  },
  {
   "cell_type": "markdown",
   "metadata": {},
   "source": [
    "`Principales datos estadísticos`"
   ]
  },
  {
   "cell_type": "markdown",
   "metadata": {},
   "source": [
    "- **Customer flight**"
   ]
  },
  {
   "cell_type": "code",
   "execution_count": 93,
   "metadata": {},
   "outputs": [
    {
     "data": {
      "text/html": [
       "<div>\n",
       "<style scoped>\n",
       "    .dataframe tbody tr th:only-of-type {\n",
       "        vertical-align: middle;\n",
       "    }\n",
       "\n",
       "    .dataframe tbody tr th {\n",
       "        vertical-align: top;\n",
       "    }\n",
       "\n",
       "    .dataframe thead th {\n",
       "        text-align: right;\n",
       "    }\n",
       "</style>\n",
       "<table border=\"1\" class=\"dataframe\">\n",
       "  <thead>\n",
       "    <tr style=\"text-align: right;\">\n",
       "      <th></th>\n",
       "      <th>count</th>\n",
       "      <th>mean</th>\n",
       "      <th>std</th>\n",
       "      <th>min</th>\n",
       "      <th>25%</th>\n",
       "      <th>50%</th>\n",
       "      <th>75%</th>\n",
       "      <th>max</th>\n",
       "    </tr>\n",
       "  </thead>\n",
       "  <tbody>\n",
       "    <tr>\n",
       "      <th>Loyalty Number</th>\n",
       "      <td>403760.0</td>\n",
       "      <td>549875.383713</td>\n",
       "      <td>258961.514684</td>\n",
       "      <td>100018.0</td>\n",
       "      <td>326699.0</td>\n",
       "      <td>550598.0</td>\n",
       "      <td>772152.0</td>\n",
       "      <td>999986.0</td>\n",
       "    </tr>\n",
       "    <tr>\n",
       "      <th>Year</th>\n",
       "      <td>403760.0</td>\n",
       "      <td>2017.500352</td>\n",
       "      <td>0.500000</td>\n",
       "      <td>2017.0</td>\n",
       "      <td>2017.0</td>\n",
       "      <td>2018.0</td>\n",
       "      <td>2018.0</td>\n",
       "      <td>2018.0</td>\n",
       "    </tr>\n",
       "    <tr>\n",
       "      <th>Month</th>\n",
       "      <td>403760.0</td>\n",
       "      <td>6.501335</td>\n",
       "      <td>3.451982</td>\n",
       "      <td>1.0</td>\n",
       "      <td>4.0</td>\n",
       "      <td>7.0</td>\n",
       "      <td>10.0</td>\n",
       "      <td>12.0</td>\n",
       "    </tr>\n",
       "    <tr>\n",
       "      <th>Flights Booked</th>\n",
       "      <td>403760.0</td>\n",
       "      <td>4.134050</td>\n",
       "      <td>5.230064</td>\n",
       "      <td>0.0</td>\n",
       "      <td>0.0</td>\n",
       "      <td>1.0</td>\n",
       "      <td>8.0</td>\n",
       "      <td>21.0</td>\n",
       "    </tr>\n",
       "    <tr>\n",
       "      <th>Flights with Companions</th>\n",
       "      <td>403760.0</td>\n",
       "      <td>1.036569</td>\n",
       "      <td>2.080472</td>\n",
       "      <td>0.0</td>\n",
       "      <td>0.0</td>\n",
       "      <td>0.0</td>\n",
       "      <td>1.0</td>\n",
       "      <td>11.0</td>\n",
       "    </tr>\n",
       "    <tr>\n",
       "      <th>Total Flights</th>\n",
       "      <td>403760.0</td>\n",
       "      <td>5.170619</td>\n",
       "      <td>6.526858</td>\n",
       "      <td>0.0</td>\n",
       "      <td>0.0</td>\n",
       "      <td>1.0</td>\n",
       "      <td>10.0</td>\n",
       "      <td>32.0</td>\n",
       "    </tr>\n",
       "    <tr>\n",
       "      <th>Distance</th>\n",
       "      <td>403760.0</td>\n",
       "      <td>1214.460979</td>\n",
       "      <td>1434.098521</td>\n",
       "      <td>0.0</td>\n",
       "      <td>0.0</td>\n",
       "      <td>525.0</td>\n",
       "      <td>2342.0</td>\n",
       "      <td>6293.0</td>\n",
       "    </tr>\n",
       "    <tr>\n",
       "      <th>Points Accumulated</th>\n",
       "      <td>403760.0</td>\n",
       "      <td>124.263761</td>\n",
       "      <td>146.696179</td>\n",
       "      <td>0.0</td>\n",
       "      <td>0.0</td>\n",
       "      <td>53.0</td>\n",
       "      <td>240.0</td>\n",
       "      <td>676.5</td>\n",
       "    </tr>\n",
       "    <tr>\n",
       "      <th>Points Redeemed</th>\n",
       "      <td>403760.0</td>\n",
       "      <td>30.838587</td>\n",
       "      <td>125.758002</td>\n",
       "      <td>0.0</td>\n",
       "      <td>0.0</td>\n",
       "      <td>0.0</td>\n",
       "      <td>0.0</td>\n",
       "      <td>876.0</td>\n",
       "    </tr>\n",
       "    <tr>\n",
       "      <th>Dollar Cost Points Redeemed</th>\n",
       "      <td>403760.0</td>\n",
       "      <td>2.495973</td>\n",
       "      <td>10.172033</td>\n",
       "      <td>0.0</td>\n",
       "      <td>0.0</td>\n",
       "      <td>0.0</td>\n",
       "      <td>0.0</td>\n",
       "      <td>71.0</td>\n",
       "    </tr>\n",
       "  </tbody>\n",
       "</table>\n",
       "</div>"
      ],
      "text/plain": [
       "                                count           mean            std       min  \\\n",
       "Loyalty Number               403760.0  549875.383713  258961.514684  100018.0   \n",
       "Year                         403760.0    2017.500352       0.500000    2017.0   \n",
       "Month                        403760.0       6.501335       3.451982       1.0   \n",
       "Flights Booked               403760.0       4.134050       5.230064       0.0   \n",
       "Flights with Companions      403760.0       1.036569       2.080472       0.0   \n",
       "Total Flights                403760.0       5.170619       6.526858       0.0   \n",
       "Distance                     403760.0    1214.460979    1434.098521       0.0   \n",
       "Points Accumulated           403760.0     124.263761     146.696179       0.0   \n",
       "Points Redeemed              403760.0      30.838587     125.758002       0.0   \n",
       "Dollar Cost Points Redeemed  403760.0       2.495973      10.172033       0.0   \n",
       "\n",
       "                                  25%       50%       75%       max  \n",
       "Loyalty Number               326699.0  550598.0  772152.0  999986.0  \n",
       "Year                           2017.0    2018.0    2018.0    2018.0  \n",
       "Month                             4.0       7.0      10.0      12.0  \n",
       "Flights Booked                    0.0       1.0       8.0      21.0  \n",
       "Flights with Companions           0.0       0.0       1.0      11.0  \n",
       "Total Flights                     0.0       1.0      10.0      32.0  \n",
       "Distance                          0.0     525.0    2342.0    6293.0  \n",
       "Points Accumulated                0.0      53.0     240.0     676.5  \n",
       "Points Redeemed                   0.0       0.0       0.0     876.0  \n",
       "Dollar Cost Points Redeemed       0.0       0.0       0.0      71.0  "
      ]
     },
     "execution_count": 93,
     "metadata": {},
     "output_type": "execute_result"
    }
   ],
   "source": [
    "df_cust_flight1.describe().T"
   ]
  },
  {
   "cell_type": "markdown",
   "metadata": {},
   "source": [
    "- *Análisis*:\n",
    "\n",
    "    - Total Flights: tiene una desviación estandar significativa, y viendo el valor max, y la mdiana se puede decir que hay muchos valores atípicos "
   ]
  },
  {
   "cell_type": "markdown",
   "metadata": {},
   "source": [
    "- **Customer loyalty**"
   ]
  },
  {
   "cell_type": "code",
   "execution_count": 21,
   "metadata": {},
   "outputs": [
    {
     "data": {
      "text/html": [
       "<div>\n",
       "<style scoped>\n",
       "    .dataframe tbody tr th:only-of-type {\n",
       "        vertical-align: middle;\n",
       "    }\n",
       "\n",
       "    .dataframe tbody tr th {\n",
       "        vertical-align: top;\n",
       "    }\n",
       "\n",
       "    .dataframe thead th {\n",
       "        text-align: right;\n",
       "    }\n",
       "</style>\n",
       "<table border=\"1\" class=\"dataframe\">\n",
       "  <thead>\n",
       "    <tr style=\"text-align: right;\">\n",
       "      <th></th>\n",
       "      <th>count</th>\n",
       "      <th>mean</th>\n",
       "      <th>std</th>\n",
       "      <th>min</th>\n",
       "      <th>25%</th>\n",
       "      <th>50%</th>\n",
       "      <th>75%</th>\n",
       "      <th>max</th>\n",
       "    </tr>\n",
       "  </thead>\n",
       "  <tbody>\n",
       "    <tr>\n",
       "      <th>Loyalty Number</th>\n",
       "      <td>16737.0</td>\n",
       "      <td>549735.880445</td>\n",
       "      <td>258912.132453</td>\n",
       "      <td>100018.00</td>\n",
       "      <td>326603.00</td>\n",
       "      <td>550434.00</td>\n",
       "      <td>772019.00</td>\n",
       "      <td>999986.00</td>\n",
       "    </tr>\n",
       "    <tr>\n",
       "      <th>Salary</th>\n",
       "      <td>12499.0</td>\n",
       "      <td>79245.609409</td>\n",
       "      <td>35008.297285</td>\n",
       "      <td>-58486.00</td>\n",
       "      <td>59246.50</td>\n",
       "      <td>73455.00</td>\n",
       "      <td>88517.50</td>\n",
       "      <td>407228.00</td>\n",
       "    </tr>\n",
       "    <tr>\n",
       "      <th>CLV</th>\n",
       "      <td>16737.0</td>\n",
       "      <td>7988.896536</td>\n",
       "      <td>6860.982280</td>\n",
       "      <td>1898.01</td>\n",
       "      <td>3980.84</td>\n",
       "      <td>5780.18</td>\n",
       "      <td>8940.58</td>\n",
       "      <td>83325.38</td>\n",
       "    </tr>\n",
       "    <tr>\n",
       "      <th>Enrollment Year</th>\n",
       "      <td>16737.0</td>\n",
       "      <td>2015.253211</td>\n",
       "      <td>1.979111</td>\n",
       "      <td>2012.00</td>\n",
       "      <td>2014.00</td>\n",
       "      <td>2015.00</td>\n",
       "      <td>2017.00</td>\n",
       "      <td>2018.00</td>\n",
       "    </tr>\n",
       "    <tr>\n",
       "      <th>Enrollment Month</th>\n",
       "      <td>16737.0</td>\n",
       "      <td>6.669116</td>\n",
       "      <td>3.398958</td>\n",
       "      <td>1.00</td>\n",
       "      <td>4.00</td>\n",
       "      <td>7.00</td>\n",
       "      <td>10.00</td>\n",
       "      <td>12.00</td>\n",
       "    </tr>\n",
       "    <tr>\n",
       "      <th>Cancellation Year</th>\n",
       "      <td>2067.0</td>\n",
       "      <td>2016.503145</td>\n",
       "      <td>1.380743</td>\n",
       "      <td>2013.00</td>\n",
       "      <td>2016.00</td>\n",
       "      <td>2017.00</td>\n",
       "      <td>2018.00</td>\n",
       "      <td>2018.00</td>\n",
       "    </tr>\n",
       "    <tr>\n",
       "      <th>Cancellation Month</th>\n",
       "      <td>2067.0</td>\n",
       "      <td>6.962748</td>\n",
       "      <td>3.455297</td>\n",
       "      <td>1.00</td>\n",
       "      <td>4.00</td>\n",
       "      <td>7.00</td>\n",
       "      <td>10.00</td>\n",
       "      <td>12.00</td>\n",
       "    </tr>\n",
       "  </tbody>\n",
       "</table>\n",
       "</div>"
      ],
      "text/plain": [
       "                      count           mean            std        min  \\\n",
       "Loyalty Number      16737.0  549735.880445  258912.132453  100018.00   \n",
       "Salary              12499.0   79245.609409   35008.297285  -58486.00   \n",
       "CLV                 16737.0    7988.896536    6860.982280    1898.01   \n",
       "Enrollment Year     16737.0    2015.253211       1.979111    2012.00   \n",
       "Enrollment Month    16737.0       6.669116       3.398958       1.00   \n",
       "Cancellation Year    2067.0    2016.503145       1.380743    2013.00   \n",
       "Cancellation Month   2067.0       6.962748       3.455297       1.00   \n",
       "\n",
       "                          25%        50%        75%        max  \n",
       "Loyalty Number      326603.00  550434.00  772019.00  999986.00  \n",
       "Salary               59246.50   73455.00   88517.50  407228.00  \n",
       "CLV                   3980.84    5780.18    8940.58   83325.38  \n",
       "Enrollment Year       2014.00    2015.00    2017.00    2018.00  \n",
       "Enrollment Month         4.00       7.00      10.00      12.00  \n",
       "Cancellation Year     2016.00    2017.00    2018.00    2018.00  \n",
       "Cancellation Month       4.00       7.00      10.00      12.00  "
      ]
     },
     "execution_count": 21,
     "metadata": {},
     "output_type": "execute_result"
    }
   ],
   "source": [
    "# Variables numéricas\n",
    "df_cust_loyal.describe().T"
   ]
  },
  {
   "cell_type": "markdown",
   "metadata": {},
   "source": [
    "- *Análisis*:\n",
    "\n",
    "    - Salary: tiene una desviación estandar significativa, y viendo el valor max y min encontramos que es una columna donde puede tener outliers. Requiere cambiar valores a positivo\n",
    "    - Revisando datos con nulos, se podría pensar que Cancellation Year' y 'Cancellation Month', se puedan gestionar con la media, ya que no presenta min y max fuera del tipo de dato esperado."
   ]
  },
  {
   "cell_type": "code",
   "execution_count": 22,
   "metadata": {},
   "outputs": [
    {
     "data": {
      "text/html": [
       "<div>\n",
       "<style scoped>\n",
       "    .dataframe tbody tr th:only-of-type {\n",
       "        vertical-align: middle;\n",
       "    }\n",
       "\n",
       "    .dataframe tbody tr th {\n",
       "        vertical-align: top;\n",
       "    }\n",
       "\n",
       "    .dataframe thead th {\n",
       "        text-align: right;\n",
       "    }\n",
       "</style>\n",
       "<table border=\"1\" class=\"dataframe\">\n",
       "  <thead>\n",
       "    <tr style=\"text-align: right;\">\n",
       "      <th></th>\n",
       "      <th>count</th>\n",
       "      <th>unique</th>\n",
       "      <th>top</th>\n",
       "      <th>freq</th>\n",
       "    </tr>\n",
       "  </thead>\n",
       "  <tbody>\n",
       "    <tr>\n",
       "      <th>Country</th>\n",
       "      <td>16737</td>\n",
       "      <td>1</td>\n",
       "      <td>Canada</td>\n",
       "      <td>16737</td>\n",
       "    </tr>\n",
       "    <tr>\n",
       "      <th>Province</th>\n",
       "      <td>16737</td>\n",
       "      <td>11</td>\n",
       "      <td>Ontario</td>\n",
       "      <td>5404</td>\n",
       "    </tr>\n",
       "    <tr>\n",
       "      <th>City</th>\n",
       "      <td>16737</td>\n",
       "      <td>29</td>\n",
       "      <td>Toronto</td>\n",
       "      <td>3351</td>\n",
       "    </tr>\n",
       "    <tr>\n",
       "      <th>Postal Code</th>\n",
       "      <td>16737</td>\n",
       "      <td>55</td>\n",
       "      <td>V6E 3D9</td>\n",
       "      <td>911</td>\n",
       "    </tr>\n",
       "    <tr>\n",
       "      <th>Gender</th>\n",
       "      <td>16737</td>\n",
       "      <td>2</td>\n",
       "      <td>Female</td>\n",
       "      <td>8410</td>\n",
       "    </tr>\n",
       "    <tr>\n",
       "      <th>Education</th>\n",
       "      <td>16737</td>\n",
       "      <td>5</td>\n",
       "      <td>Bachelor</td>\n",
       "      <td>10475</td>\n",
       "    </tr>\n",
       "    <tr>\n",
       "      <th>Marital Status</th>\n",
       "      <td>16737</td>\n",
       "      <td>3</td>\n",
       "      <td>Married</td>\n",
       "      <td>9735</td>\n",
       "    </tr>\n",
       "    <tr>\n",
       "      <th>Loyalty Card</th>\n",
       "      <td>16737</td>\n",
       "      <td>3</td>\n",
       "      <td>Star</td>\n",
       "      <td>7637</td>\n",
       "    </tr>\n",
       "    <tr>\n",
       "      <th>Enrollment Type</th>\n",
       "      <td>16737</td>\n",
       "      <td>2</td>\n",
       "      <td>Standard</td>\n",
       "      <td>15766</td>\n",
       "    </tr>\n",
       "  </tbody>\n",
       "</table>\n",
       "</div>"
      ],
      "text/plain": [
       "                 count unique       top   freq\n",
       "Country          16737      1    Canada  16737\n",
       "Province         16737     11   Ontario   5404\n",
       "City             16737     29   Toronto   3351\n",
       "Postal Code      16737     55   V6E 3D9    911\n",
       "Gender           16737      2    Female   8410\n",
       "Education        16737      5  Bachelor  10475\n",
       "Marital Status   16737      3   Married   9735\n",
       "Loyalty Card     16737      3      Star   7637\n",
       "Enrollment Type  16737      2  Standard  15766"
      ]
     },
     "execution_count": 22,
     "metadata": {},
     "output_type": "execute_result"
    }
   ],
   "source": [
    "# Variables catégoricas\n",
    "df_cust_loyal.describe(include = \"object\").T"
   ]
  },
  {
   "cell_type": "markdown",
   "metadata": {},
   "source": [
    "`Datos atípicos`"
   ]
  },
  {
   "cell_type": "markdown",
   "metadata": {},
   "source": [
    "**- Customer flight**"
   ]
  },
  {
   "cell_type": "code",
   "execution_count": 94,
   "metadata": {},
   "outputs": [
    {
     "data": {
      "text/plain": [
       "['Loyalty Number',\n",
       " 'Year',\n",
       " 'Month',\n",
       " 'Flights Booked',\n",
       " 'Flights with Companions',\n",
       " 'Total Flights',\n",
       " 'Distance',\n",
       " 'Points Accumulated',\n",
       " 'Points Redeemed',\n",
       " 'Dollar Cost Points Redeemed']"
      ]
     },
     "execution_count": 94,
     "metadata": {},
     "output_type": "execute_result"
    }
   ],
   "source": [
    "columnas_num= df_cust_flight1.select_dtypes(include = np.number).columns.tolist()\n",
    "columnas_num\n"
   ]
  },
  {
   "cell_type": "code",
   "execution_count": 95,
   "metadata": {},
   "outputs": [
    {
     "data": {
      "image/png": "[encoded data removed]",
      "text/plain": [
       "<Figure size 2000x1000 with 10 Axes>"
      ]
     },
     "metadata": {},
     "output_type": "display_data"
    }
   ],
   "source": [
    "#Valores atipicos o outliers\n",
    "\n",
    "\n",
    "fig, axes = plt.subplots(nrows = 5, ncols = 2, figsize = (20,10)) \n",
    "\n",
    "axes = axes.flat\n",
    "\n",
    "for indice, col in enumerate(columnas_num):\n",
    "    sns.boxplot(x = col, data =df_cust_flight1, ax = axes[indice])\n",
    "    \n",
    "plt.tight_layout();"
   ]
  },
  {
   "cell_type": "markdown",
   "metadata": {},
   "source": [
    "*Análisis:*\n",
    "- Tenemos una cantidad de datos atipicos en algunas de las categorías. Si bien esto no representa un problema significativo al no tener datos nulos. Es importante considerarlo en términos estadísticos y como puede estar influyendo en la media de algunas variables"
   ]
  },
  {
   "cell_type": "markdown",
   "metadata": {},
   "source": [
    "- **Customer loyalty**"
   ]
  },
  {
   "cell_type": "code",
   "execution_count": 97,
   "metadata": {},
   "outputs": [
    {
     "data": {
      "text/plain": [
       "['Loyalty Number',\n",
       " 'Salary',\n",
       " 'CLV',\n",
       " 'Enrollment Year',\n",
       " 'Enrollment Month',\n",
       " 'Cancellation Year',\n",
       " 'Cancellation Month']"
      ]
     },
     "execution_count": 97,
     "metadata": {},
     "output_type": "execute_result"
    }
   ],
   "source": [
    "columnas_num= df_cust_loyal.select_dtypes(include = np.number).columns.tolist()\n",
    "columnas_num"
   ]
  },
  {
   "cell_type": "code",
   "execution_count": 98,
   "metadata": {},
   "outputs": [
    {
     "data": {
      "image/png": "[encoded data removed]",
      "text/plain": [
       "<Figure size 2000x1000 with 8 Axes>"
      ]
     },
     "metadata": {},
     "output_type": "display_data"
    }
   ],
   "source": [
    "#Valores atipicos o outliers\n",
    "\n",
    "\n",
    "fig, axes = plt.subplots(nrows = 4, ncols = 2, figsize = (20,10)) \n",
    "\n",
    "axes = axes.flat\n",
    "\n",
    "for indice, col in enumerate(columnas_num):\n",
    "    sns.boxplot(x = col, data =df_cust_loyal, ax = axes[indice])\n",
    "    \n",
    "plt.tight_layout();"
   ]
  },
  {
   "cell_type": "markdown",
   "metadata": {},
   "source": [
    "`Unión DF`"
   ]
  },
  {
   "cell_type": "code",
   "execution_count": 106,
   "metadata": {},
   "outputs": [
    {
     "data": {
      "text/html": [
       "<div>\n",
       "<style scoped>\n",
       "    .dataframe tbody tr th:only-of-type {\n",
       "        vertical-align: middle;\n",
       "    }\n",
       "\n",
       "    .dataframe tbody tr th {\n",
       "        vertical-align: top;\n",
       "    }\n",
       "\n",
       "    .dataframe thead th {\n",
       "        text-align: right;\n",
       "    }\n",
       "</style>\n",
       "<table border=\"1\" class=\"dataframe\">\n",
       "  <thead>\n",
       "    <tr style=\"text-align: right;\">\n",
       "      <th></th>\n",
       "      <th>Loyalty Number</th>\n",
       "      <th>Year</th>\n",
       "      <th>Month</th>\n",
       "      <th>Flights Booked</th>\n",
       "      <th>Flights with Companions</th>\n",
       "      <th>Total Flights</th>\n",
       "      <th>Distance</th>\n",
       "      <th>Points Accumulated</th>\n",
       "      <th>Points Redeemed</th>\n",
       "      <th>Dollar Cost Points Redeemed</th>\n",
       "      <th>Country</th>\n",
       "      <th>Province</th>\n",
       "      <th>City</th>\n",
       "      <th>Postal Code</th>\n",
       "      <th>Gender</th>\n",
       "      <th>Education</th>\n",
       "      <th>Salary</th>\n",
       "      <th>Marital Status</th>\n",
       "      <th>Loyalty Card</th>\n",
       "      <th>CLV</th>\n",
       "      <th>Enrollment Type</th>\n",
       "      <th>Enrollment Year</th>\n",
       "      <th>Enrollment Month</th>\n",
       "      <th>Cancellation Year</th>\n",
       "      <th>Cancellation Month</th>\n",
       "    </tr>\n",
       "  </thead>\n",
       "  <tbody>\n",
       "    <tr>\n",
       "      <th>0</th>\n",
       "      <td>100018</td>\n",
       "      <td>2017</td>\n",
       "      <td>1</td>\n",
       "      <td>3</td>\n",
       "      <td>0</td>\n",
       "      <td>3</td>\n",
       "      <td>1521</td>\n",
       "      <td>152.0</td>\n",
       "      <td>0</td>\n",
       "      <td>0</td>\n",
       "      <td>Canada</td>\n",
       "      <td>Alberta</td>\n",
       "      <td>Edmonton</td>\n",
       "      <td>T9G 1W3</td>\n",
       "      <td>Female</td>\n",
       "      <td>Bachelor</td>\n",
       "      <td>92552.0</td>\n",
       "      <td>Married</td>\n",
       "      <td>Aurora</td>\n",
       "      <td>7919.20</td>\n",
       "      <td>Standard</td>\n",
       "      <td>2016</td>\n",
       "      <td>8</td>\n",
       "      <td>NaN</td>\n",
       "      <td>NaN</td>\n",
       "    </tr>\n",
       "    <tr>\n",
       "      <th>1</th>\n",
       "      <td>100102</td>\n",
       "      <td>2017</td>\n",
       "      <td>1</td>\n",
       "      <td>10</td>\n",
       "      <td>4</td>\n",
       "      <td>14</td>\n",
       "      <td>2030</td>\n",
       "      <td>203.0</td>\n",
       "      <td>0</td>\n",
       "      <td>0</td>\n",
       "      <td>Canada</td>\n",
       "      <td>Ontario</td>\n",
       "      <td>Toronto</td>\n",
       "      <td>M1R 4K3</td>\n",
       "      <td>Male</td>\n",
       "      <td>College</td>\n",
       "      <td>NaN</td>\n",
       "      <td>Single</td>\n",
       "      <td>Nova</td>\n",
       "      <td>2887.74</td>\n",
       "      <td>Standard</td>\n",
       "      <td>2013</td>\n",
       "      <td>3</td>\n",
       "      <td>NaN</td>\n",
       "      <td>NaN</td>\n",
       "    </tr>\n",
       "    <tr>\n",
       "      <th>2</th>\n",
       "      <td>100140</td>\n",
       "      <td>2017</td>\n",
       "      <td>1</td>\n",
       "      <td>6</td>\n",
       "      <td>0</td>\n",
       "      <td>6</td>\n",
       "      <td>1200</td>\n",
       "      <td>120.0</td>\n",
       "      <td>0</td>\n",
       "      <td>0</td>\n",
       "      <td>Canada</td>\n",
       "      <td>British Columbia</td>\n",
       "      <td>Dawson Creek</td>\n",
       "      <td>U5I 4F1</td>\n",
       "      <td>Female</td>\n",
       "      <td>College</td>\n",
       "      <td>NaN</td>\n",
       "      <td>Divorced</td>\n",
       "      <td>Nova</td>\n",
       "      <td>2838.07</td>\n",
       "      <td>Standard</td>\n",
       "      <td>2016</td>\n",
       "      <td>7</td>\n",
       "      <td>NaN</td>\n",
       "      <td>NaN</td>\n",
       "    </tr>\n",
       "    <tr>\n",
       "      <th>3</th>\n",
       "      <td>100214</td>\n",
       "      <td>2017</td>\n",
       "      <td>1</td>\n",
       "      <td>0</td>\n",
       "      <td>0</td>\n",
       "      <td>0</td>\n",
       "      <td>0</td>\n",
       "      <td>0.0</td>\n",
       "      <td>0</td>\n",
       "      <td>0</td>\n",
       "      <td>Canada</td>\n",
       "      <td>British Columbia</td>\n",
       "      <td>Vancouver</td>\n",
       "      <td>V5R 1W3</td>\n",
       "      <td>Male</td>\n",
       "      <td>Bachelor</td>\n",
       "      <td>63253.0</td>\n",
       "      <td>Married</td>\n",
       "      <td>Star</td>\n",
       "      <td>4170.57</td>\n",
       "      <td>Standard</td>\n",
       "      <td>2015</td>\n",
       "      <td>8</td>\n",
       "      <td>NaN</td>\n",
       "      <td>NaN</td>\n",
       "    </tr>\n",
       "    <tr>\n",
       "      <th>4</th>\n",
       "      <td>100272</td>\n",
       "      <td>2017</td>\n",
       "      <td>1</td>\n",
       "      <td>0</td>\n",
       "      <td>0</td>\n",
       "      <td>0</td>\n",
       "      <td>0</td>\n",
       "      <td>0.0</td>\n",
       "      <td>0</td>\n",
       "      <td>0</td>\n",
       "      <td>Canada</td>\n",
       "      <td>Ontario</td>\n",
       "      <td>Toronto</td>\n",
       "      <td>P1L 8X8</td>\n",
       "      <td>Female</td>\n",
       "      <td>Bachelor</td>\n",
       "      <td>91163.0</td>\n",
       "      <td>Divorced</td>\n",
       "      <td>Star</td>\n",
       "      <td>6622.05</td>\n",
       "      <td>Standard</td>\n",
       "      <td>2014</td>\n",
       "      <td>1</td>\n",
       "      <td>NaN</td>\n",
       "      <td>NaN</td>\n",
       "    </tr>\n",
       "    <tr>\n",
       "      <th>...</th>\n",
       "      <td>...</td>\n",
       "      <td>...</td>\n",
       "      <td>...</td>\n",
       "      <td>...</td>\n",
       "      <td>...</td>\n",
       "      <td>...</td>\n",
       "      <td>...</td>\n",
       "      <td>...</td>\n",
       "      <td>...</td>\n",
       "      <td>...</td>\n",
       "      <td>...</td>\n",
       "      <td>...</td>\n",
       "      <td>...</td>\n",
       "      <td>...</td>\n",
       "      <td>...</td>\n",
       "      <td>...</td>\n",
       "      <td>...</td>\n",
       "      <td>...</td>\n",
       "      <td>...</td>\n",
       "      <td>...</td>\n",
       "      <td>...</td>\n",
       "      <td>...</td>\n",
       "      <td>...</td>\n",
       "      <td>...</td>\n",
       "      <td>...</td>\n",
       "    </tr>\n",
       "    <tr>\n",
       "      <th>403755</th>\n",
       "      <td>999902</td>\n",
       "      <td>2018</td>\n",
       "      <td>12</td>\n",
       "      <td>0</td>\n",
       "      <td>0</td>\n",
       "      <td>0</td>\n",
       "      <td>0</td>\n",
       "      <td>0.0</td>\n",
       "      <td>0</td>\n",
       "      <td>0</td>\n",
       "      <td>Canada</td>\n",
       "      <td>Ontario</td>\n",
       "      <td>Toronto</td>\n",
       "      <td>M1R 4K3</td>\n",
       "      <td>Male</td>\n",
       "      <td>College</td>\n",
       "      <td>NaN</td>\n",
       "      <td>Married</td>\n",
       "      <td>Aurora</td>\n",
       "      <td>7290.07</td>\n",
       "      <td>Standard</td>\n",
       "      <td>2014</td>\n",
       "      <td>5</td>\n",
       "      <td>NaN</td>\n",
       "      <td>NaN</td>\n",
       "    </tr>\n",
       "    <tr>\n",
       "      <th>403756</th>\n",
       "      <td>999911</td>\n",
       "      <td>2018</td>\n",
       "      <td>12</td>\n",
       "      <td>0</td>\n",
       "      <td>0</td>\n",
       "      <td>0</td>\n",
       "      <td>0</td>\n",
       "      <td>0.0</td>\n",
       "      <td>0</td>\n",
       "      <td>0</td>\n",
       "      <td>Canada</td>\n",
       "      <td>Newfoundland</td>\n",
       "      <td>St. John's</td>\n",
       "      <td>A1C 6H9</td>\n",
       "      <td>Male</td>\n",
       "      <td>Doctor</td>\n",
       "      <td>217943.0</td>\n",
       "      <td>Single</td>\n",
       "      <td>Nova</td>\n",
       "      <td>8564.77</td>\n",
       "      <td>Standard</td>\n",
       "      <td>2012</td>\n",
       "      <td>8</td>\n",
       "      <td>NaN</td>\n",
       "      <td>NaN</td>\n",
       "    </tr>\n",
       "    <tr>\n",
       "      <th>403757</th>\n",
       "      <td>999940</td>\n",
       "      <td>2018</td>\n",
       "      <td>12</td>\n",
       "      <td>3</td>\n",
       "      <td>0</td>\n",
       "      <td>3</td>\n",
       "      <td>1233</td>\n",
       "      <td>123.0</td>\n",
       "      <td>0</td>\n",
       "      <td>0</td>\n",
       "      <td>Canada</td>\n",
       "      <td>Quebec</td>\n",
       "      <td>Quebec City</td>\n",
       "      <td>G1B 3L5</td>\n",
       "      <td>Female</td>\n",
       "      <td>Bachelor</td>\n",
       "      <td>47670.0</td>\n",
       "      <td>Married</td>\n",
       "      <td>Nova</td>\n",
       "      <td>20266.50</td>\n",
       "      <td>Standard</td>\n",
       "      <td>2017</td>\n",
       "      <td>7</td>\n",
       "      <td>NaN</td>\n",
       "      <td>NaN</td>\n",
       "    </tr>\n",
       "    <tr>\n",
       "      <th>403758</th>\n",
       "      <td>999982</td>\n",
       "      <td>2018</td>\n",
       "      <td>12</td>\n",
       "      <td>0</td>\n",
       "      <td>0</td>\n",
       "      <td>0</td>\n",
       "      <td>0</td>\n",
       "      <td>0.0</td>\n",
       "      <td>0</td>\n",
       "      <td>0</td>\n",
       "      <td>Canada</td>\n",
       "      <td>British Columbia</td>\n",
       "      <td>Victoria</td>\n",
       "      <td>V10 6T5</td>\n",
       "      <td>Male</td>\n",
       "      <td>College</td>\n",
       "      <td>NaN</td>\n",
       "      <td>Married</td>\n",
       "      <td>Star</td>\n",
       "      <td>2631.56</td>\n",
       "      <td>Standard</td>\n",
       "      <td>2018</td>\n",
       "      <td>7</td>\n",
       "      <td>NaN</td>\n",
       "      <td>NaN</td>\n",
       "    </tr>\n",
       "    <tr>\n",
       "      <th>403759</th>\n",
       "      <td>999986</td>\n",
       "      <td>2018</td>\n",
       "      <td>12</td>\n",
       "      <td>0</td>\n",
       "      <td>0</td>\n",
       "      <td>0</td>\n",
       "      <td>0</td>\n",
       "      <td>0.0</td>\n",
       "      <td>0</td>\n",
       "      <td>0</td>\n",
       "      <td>Canada</td>\n",
       "      <td>Ontario</td>\n",
       "      <td>Ottawa</td>\n",
       "      <td>K1F 2R2</td>\n",
       "      <td>Female</td>\n",
       "      <td>Bachelor</td>\n",
       "      <td>46594.0</td>\n",
       "      <td>Married</td>\n",
       "      <td>Nova</td>\n",
       "      <td>8257.01</td>\n",
       "      <td>2018 Promotion</td>\n",
       "      <td>2018</td>\n",
       "      <td>2</td>\n",
       "      <td>NaN</td>\n",
       "      <td>NaN</td>\n",
       "    </tr>\n",
       "  </tbody>\n",
       "</table>\n",
       "<p>403760 rows × 25 columns</p>\n",
       "</div>"
      ],
      "text/plain": [
       "        Loyalty Number  Year  Month  Flights Booked  Flights with Companions  \\\n",
       "0               100018  2017      1               3                        0   \n",
       "1               100102  2017      1              10                        4   \n",
       "2               100140  2017      1               6                        0   \n",
       "3               100214  2017      1               0                        0   \n",
       "4               100272  2017      1               0                        0   \n",
       "...                ...   ...    ...             ...                      ...   \n",
       "403755          999902  2018     12               0                        0   \n",
       "403756          999911  2018     12               0                        0   \n",
       "403757          999940  2018     12               3                        0   \n",
       "403758          999982  2018     12               0                        0   \n",
       "403759          999986  2018     12               0                        0   \n",
       "\n",
       "        Total Flights  Distance  Points Accumulated  Points Redeemed  \\\n",
       "0                   3      1521               152.0                0   \n",
       "1                  14      2030               203.0                0   \n",
       "2                   6      1200               120.0                0   \n",
       "3                   0         0                 0.0                0   \n",
       "4                   0         0                 0.0                0   \n",
       "...               ...       ...                 ...              ...   \n",
       "403755              0         0                 0.0                0   \n",
       "403756              0         0                 0.0                0   \n",
       "403757              3      1233               123.0                0   \n",
       "403758              0         0                 0.0                0   \n",
       "403759              0         0                 0.0                0   \n",
       "\n",
       "        Dollar Cost Points Redeemed Country          Province          City  \\\n",
       "0                                 0  Canada           Alberta      Edmonton   \n",
       "1                                 0  Canada           Ontario       Toronto   \n",
       "2                                 0  Canada  British Columbia  Dawson Creek   \n",
       "3                                 0  Canada  British Columbia     Vancouver   \n",
       "4                                 0  Canada           Ontario       Toronto   \n",
       "...                             ...     ...               ...           ...   \n",
       "403755                            0  Canada           Ontario       Toronto   \n",
       "403756                            0  Canada      Newfoundland    St. John's   \n",
       "403757                            0  Canada            Quebec   Quebec City   \n",
       "403758                            0  Canada  British Columbia      Victoria   \n",
       "403759                            0  Canada           Ontario        Ottawa   \n",
       "\n",
       "       Postal Code  Gender Education    Salary Marital Status Loyalty Card  \\\n",
       "0          T9G 1W3  Female  Bachelor   92552.0        Married       Aurora   \n",
       "1          M1R 4K3    Male   College       NaN         Single         Nova   \n",
       "2          U5I 4F1  Female   College       NaN       Divorced         Nova   \n",
       "3          V5R 1W3    Male  Bachelor   63253.0        Married         Star   \n",
       "4          P1L 8X8  Female  Bachelor   91163.0       Divorced         Star   \n",
       "...            ...     ...       ...       ...            ...          ...   \n",
       "403755     M1R 4K3    Male   College       NaN        Married       Aurora   \n",
       "403756     A1C 6H9    Male    Doctor  217943.0         Single         Nova   \n",
       "403757     G1B 3L5  Female  Bachelor   47670.0        Married         Nova   \n",
       "403758     V10 6T5    Male   College       NaN        Married         Star   \n",
       "403759     K1F 2R2  Female  Bachelor   46594.0        Married         Nova   \n",
       "\n",
       "             CLV Enrollment Type  Enrollment Year  Enrollment Month  \\\n",
       "0        7919.20        Standard             2016                 8   \n",
       "1        2887.74        Standard             2013                 3   \n",
       "2        2838.07        Standard             2016                 7   \n",
       "3        4170.57        Standard             2015                 8   \n",
       "4        6622.05        Standard             2014                 1   \n",
       "...          ...             ...              ...               ...   \n",
       "403755   7290.07        Standard             2014                 5   \n",
       "403756   8564.77        Standard             2012                 8   \n",
       "403757  20266.50        Standard             2017                 7   \n",
       "403758   2631.56        Standard             2018                 7   \n",
       "403759   8257.01  2018 Promotion             2018                 2   \n",
       "\n",
       "        Cancellation Year  Cancellation Month  \n",
       "0                     NaN                 NaN  \n",
       "1                     NaN                 NaN  \n",
       "2                     NaN                 NaN  \n",
       "3                     NaN                 NaN  \n",
       "4                     NaN                 NaN  \n",
       "...                   ...                 ...  \n",
       "403755                NaN                 NaN  \n",
       "403756                NaN                 NaN  \n",
       "403757                NaN                 NaN  \n",
       "403758                NaN                 NaN  \n",
       "403759                NaN                 NaN  \n",
       "\n",
       "[403760 rows x 25 columns]"
      ]
     },
     "execution_count": 106,
     "metadata": {},
     "output_type": "execute_result"
    }
   ],
   "source": [
    "df_cust_merg = df_cust_flight1.merge(df_cust_loyal, how='inner', on=\"Loyalty Number\")\n",
    "\n",
    "df_cust_merg"
   ]
  },
  {
   "cell_type": "markdown",
   "metadata": {},
   "source": [
    "**Limpieza de datos**\n",
    "\n",
    "1. Quitar espacios de las columnas y homogeneizar"
   ]
  },
  {
   "cell_type": "code",
   "execution_count": 107,
   "metadata": {},
   "outputs": [],
   "source": [
    "df_cust_copy= df_cust_merg.copy()"
   ]
  },
  {
   "cell_type": "code",
   "execution_count": 108,
   "metadata": {},
   "outputs": [
    {
     "name": "stdout",
     "output_type": "stream",
     "text": [
      "Index(['loyalty_number', 'year', 'month', 'flights_booked',\n",
      "       'flights_with_companions', 'total_flights', 'distance',\n",
      "       'points_accumulated', 'points_redeemed', 'dollar_cost_points_redeemed',\n",
      "       'country', 'province', 'city', 'postal_code', 'gender', 'education',\n",
      "       'salary', 'marital_status', 'loyalty_card', 'clv', 'enrollment_type',\n",
      "       'enrollment_year', 'enrollment_month', 'cancellation_year',\n",
      "       'cancellation_month'],\n",
      "      dtype='object')\n"
     ]
    }
   ],
   "source": [
    "# Homogeneizar nombres columnas\n",
    "nuevas_columnas = {columna: columna.strip().lower().replace(\" \", \"_\") for columna in df_cust_copy.columns}\n",
    "df_cust_copy.rename(columns=nuevas_columnas, inplace=True)\n",
    "\n",
    "# Verificar el cambio\n",
    "print(df_cust_copy.columns)\n"
   ]
  },
  {
   "cell_type": "code",
   "execution_count": 109,
   "metadata": {},
   "outputs": [
    {
     "data": {
      "text/html": [
       "<div>\n",
       "<style scoped>\n",
       "    .dataframe tbody tr th:only-of-type {\n",
       "        vertical-align: middle;\n",
       "    }\n",
       "\n",
       "    .dataframe tbody tr th {\n",
       "        vertical-align: top;\n",
       "    }\n",
       "\n",
       "    .dataframe thead th {\n",
       "        text-align: right;\n",
       "    }\n",
       "</style>\n",
       "<table border=\"1\" class=\"dataframe\">\n",
       "  <thead>\n",
       "    <tr style=\"text-align: right;\">\n",
       "      <th></th>\n",
       "      <th>loyalty_number</th>\n",
       "      <th>year</th>\n",
       "      <th>month</th>\n",
       "      <th>flights_booked</th>\n",
       "      <th>flights_with_companions</th>\n",
       "      <th>total_flights</th>\n",
       "      <th>distance</th>\n",
       "      <th>points_accumulated</th>\n",
       "      <th>points_redeemed</th>\n",
       "      <th>dollar_cost_points_redeemed</th>\n",
       "      <th>country</th>\n",
       "      <th>province</th>\n",
       "      <th>city</th>\n",
       "      <th>postal_code</th>\n",
       "      <th>gender</th>\n",
       "      <th>education</th>\n",
       "      <th>salary</th>\n",
       "      <th>marital_status</th>\n",
       "      <th>loyalty_card</th>\n",
       "      <th>clv</th>\n",
       "      <th>enrollment_type</th>\n",
       "      <th>enrollment_year</th>\n",
       "      <th>enrollment_month</th>\n",
       "      <th>cancellation_year</th>\n",
       "      <th>cancellation_month</th>\n",
       "    </tr>\n",
       "  </thead>\n",
       "  <tbody>\n",
       "    <tr>\n",
       "      <th>0</th>\n",
       "      <td>100018</td>\n",
       "      <td>2017</td>\n",
       "      <td>1</td>\n",
       "      <td>3</td>\n",
       "      <td>0</td>\n",
       "      <td>3</td>\n",
       "      <td>1521</td>\n",
       "      <td>152.0</td>\n",
       "      <td>0</td>\n",
       "      <td>0</td>\n",
       "      <td>Canada</td>\n",
       "      <td>Alberta</td>\n",
       "      <td>Edmonton</td>\n",
       "      <td>T9G 1W3</td>\n",
       "      <td>Female</td>\n",
       "      <td>Bachelor</td>\n",
       "      <td>92552.0</td>\n",
       "      <td>Married</td>\n",
       "      <td>Aurora</td>\n",
       "      <td>7919.20</td>\n",
       "      <td>Standard</td>\n",
       "      <td>2016</td>\n",
       "      <td>8</td>\n",
       "      <td>NaN</td>\n",
       "      <td>NaN</td>\n",
       "    </tr>\n",
       "    <tr>\n",
       "      <th>1</th>\n",
       "      <td>100102</td>\n",
       "      <td>2017</td>\n",
       "      <td>1</td>\n",
       "      <td>10</td>\n",
       "      <td>4</td>\n",
       "      <td>14</td>\n",
       "      <td>2030</td>\n",
       "      <td>203.0</td>\n",
       "      <td>0</td>\n",
       "      <td>0</td>\n",
       "      <td>Canada</td>\n",
       "      <td>Ontario</td>\n",
       "      <td>Toronto</td>\n",
       "      <td>M1R 4K3</td>\n",
       "      <td>Male</td>\n",
       "      <td>College</td>\n",
       "      <td>NaN</td>\n",
       "      <td>Single</td>\n",
       "      <td>Nova</td>\n",
       "      <td>2887.74</td>\n",
       "      <td>Standard</td>\n",
       "      <td>2013</td>\n",
       "      <td>3</td>\n",
       "      <td>NaN</td>\n",
       "      <td>NaN</td>\n",
       "    </tr>\n",
       "    <tr>\n",
       "      <th>2</th>\n",
       "      <td>100140</td>\n",
       "      <td>2017</td>\n",
       "      <td>1</td>\n",
       "      <td>6</td>\n",
       "      <td>0</td>\n",
       "      <td>6</td>\n",
       "      <td>1200</td>\n",
       "      <td>120.0</td>\n",
       "      <td>0</td>\n",
       "      <td>0</td>\n",
       "      <td>Canada</td>\n",
       "      <td>British Columbia</td>\n",
       "      <td>Dawson Creek</td>\n",
       "      <td>U5I 4F1</td>\n",
       "      <td>Female</td>\n",
       "      <td>College</td>\n",
       "      <td>NaN</td>\n",
       "      <td>Divorced</td>\n",
       "      <td>Nova</td>\n",
       "      <td>2838.07</td>\n",
       "      <td>Standard</td>\n",
       "      <td>2016</td>\n",
       "      <td>7</td>\n",
       "      <td>NaN</td>\n",
       "      <td>NaN</td>\n",
       "    </tr>\n",
       "    <tr>\n",
       "      <th>3</th>\n",
       "      <td>100214</td>\n",
       "      <td>2017</td>\n",
       "      <td>1</td>\n",
       "      <td>0</td>\n",
       "      <td>0</td>\n",
       "      <td>0</td>\n",
       "      <td>0</td>\n",
       "      <td>0.0</td>\n",
       "      <td>0</td>\n",
       "      <td>0</td>\n",
       "      <td>Canada</td>\n",
       "      <td>British Columbia</td>\n",
       "      <td>Vancouver</td>\n",
       "      <td>V5R 1W3</td>\n",
       "      <td>Male</td>\n",
       "      <td>Bachelor</td>\n",
       "      <td>63253.0</td>\n",
       "      <td>Married</td>\n",
       "      <td>Star</td>\n",
       "      <td>4170.57</td>\n",
       "      <td>Standard</td>\n",
       "      <td>2015</td>\n",
       "      <td>8</td>\n",
       "      <td>NaN</td>\n",
       "      <td>NaN</td>\n",
       "    </tr>\n",
       "    <tr>\n",
       "      <th>4</th>\n",
       "      <td>100272</td>\n",
       "      <td>2017</td>\n",
       "      <td>1</td>\n",
       "      <td>0</td>\n",
       "      <td>0</td>\n",
       "      <td>0</td>\n",
       "      <td>0</td>\n",
       "      <td>0.0</td>\n",
       "      <td>0</td>\n",
       "      <td>0</td>\n",
       "      <td>Canada</td>\n",
       "      <td>Ontario</td>\n",
       "      <td>Toronto</td>\n",
       "      <td>P1L 8X8</td>\n",
       "      <td>Female</td>\n",
       "      <td>Bachelor</td>\n",
       "      <td>91163.0</td>\n",
       "      <td>Divorced</td>\n",
       "      <td>Star</td>\n",
       "      <td>6622.05</td>\n",
       "      <td>Standard</td>\n",
       "      <td>2014</td>\n",
       "      <td>1</td>\n",
       "      <td>NaN</td>\n",
       "      <td>NaN</td>\n",
       "    </tr>\n",
       "  </tbody>\n",
       "</table>\n",
       "</div>"
      ],
      "text/plain": [
       "   loyalty_number  year  month  flights_booked  flights_with_companions  \\\n",
       "0          100018  2017      1               3                        0   \n",
       "1          100102  2017      1              10                        4   \n",
       "2          100140  2017      1               6                        0   \n",
       "3          100214  2017      1               0                        0   \n",
       "4          100272  2017      1               0                        0   \n",
       "\n",
       "   total_flights  distance  points_accumulated  points_redeemed  \\\n",
       "0              3      1521               152.0                0   \n",
       "1             14      2030               203.0                0   \n",
       "2              6      1200               120.0                0   \n",
       "3              0         0                 0.0                0   \n",
       "4              0         0                 0.0                0   \n",
       "\n",
       "   dollar_cost_points_redeemed country          province          city  \\\n",
       "0                            0  Canada           Alberta      Edmonton   \n",
       "1                            0  Canada           Ontario       Toronto   \n",
       "2                            0  Canada  British Columbia  Dawson Creek   \n",
       "3                            0  Canada  British Columbia     Vancouver   \n",
       "4                            0  Canada           Ontario       Toronto   \n",
       "\n",
       "  postal_code  gender education   salary marital_status loyalty_card      clv  \\\n",
       "0     T9G 1W3  Female  Bachelor  92552.0        Married       Aurora  7919.20   \n",
       "1     M1R 4K3    Male   College      NaN         Single         Nova  2887.74   \n",
       "2     U5I 4F1  Female   College      NaN       Divorced         Nova  2838.07   \n",
       "3     V5R 1W3    Male  Bachelor  63253.0        Married         Star  4170.57   \n",
       "4     P1L 8X8  Female  Bachelor  91163.0       Divorced         Star  6622.05   \n",
       "\n",
       "  enrollment_type  enrollment_year  enrollment_month  cancellation_year  \\\n",
       "0        Standard             2016                 8                NaN   \n",
       "1        Standard             2013                 3                NaN   \n",
       "2        Standard             2016                 7                NaN   \n",
       "3        Standard             2015                 8                NaN   \n",
       "4        Standard             2014                 1                NaN   \n",
       "\n",
       "   cancellation_month  \n",
       "0                 NaN  \n",
       "1                 NaN  \n",
       "2                 NaN  \n",
       "3                 NaN  \n",
       "4                 NaN  "
      ]
     },
     "execution_count": 109,
     "metadata": {},
     "output_type": "execute_result"
    }
   ],
   "source": [
    "df_cust_copy.head()"
   ]
  },
  {
   "cell_type": "markdown",
   "metadata": {},
   "source": [
    "2. En la columna salary tenemos algunos datos negativos\n"
   ]
  },
  {
   "cell_type": "code",
   "execution_count": 116,
   "metadata": {},
   "outputs": [
    {
     "data": {
      "text/plain": [
       "array([92552.,    nan, 63253., ..., 23160., 97206., 56345.])"
      ]
     },
     "execution_count": 116,
     "metadata": {},
     "output_type": "execute_result"
    }
   ],
   "source": [
    "def sustituir_negativos(df, columna):\n",
    "    df.loc[df[columna] < 0, columna] = df[columna].abs()  # selecciono solo las filas en las que el valor es negativo y lo convierto a positivo con .abs\n",
    "    return df\n",
    "\n",
    "sustituir_negativos(df_cust_copy, \"salary\")\n",
    "\n",
    "# Comprobamos que ya no tiene negativos\n",
    "df_cust_copy['salary'].unique()"
   ]
  },
  {
   "cell_type": "markdown",
   "metadata": {},
   "source": [
    "3. Enrollment Type: 2018 Promotion, eliminar 2018"
   ]
  },
  {
   "cell_type": "code",
   "execution_count": 118,
   "metadata": {},
   "outputs": [
    {
     "data": {
      "text/plain": [
       "enrollment_type\n",
       "Standard          380419\n",
       "2018 Promotion     23341\n",
       "Name: count, dtype: int64"
      ]
     },
     "execution_count": 118,
     "metadata": {},
     "output_type": "execute_result"
    }
   ],
   "source": [
    "df_cust_copy[\"enrollment_type\"].value_counts()"
   ]
  },
  {
   "cell_type": "code",
   "execution_count": 120,
   "metadata": {},
   "outputs": [
    {
     "data": {
      "text/plain": [
       "array(['Standard', 'Promotion'], dtype=object)"
      ]
     },
     "execution_count": 120,
     "metadata": {},
     "output_type": "execute_result"
    }
   ],
   "source": [
    "def eliminar_num(df, columna): \n",
    "    df[columna] = df[columna].str.replace(r\"\\d+\\s*\", \"\", regex=True)\n",
    "\n",
    "# Aplicamos  la función\n",
    "eliminar_num(df_cust_copy, \"enrollment_type\")\n",
    "\n",
    "# Verificar el cambio\n",
    "df_cust_copy[\"enrollment_type\"].unique()\n"
   ]
  },
  {
   "cell_type": "markdown",
   "metadata": {},
   "source": [
    "4. Imputación de nulos"
   ]
  },
  {
   "cell_type": "code",
   "execution_count": 127,
   "metadata": {},
   "outputs": [
    {
     "data": {
      "text/html": [
       "<div>\n",
       "<style scoped>\n",
       "    .dataframe tbody tr th:only-of-type {\n",
       "        vertical-align: middle;\n",
       "    }\n",
       "\n",
       "    .dataframe tbody tr th {\n",
       "        vertical-align: top;\n",
       "    }\n",
       "\n",
       "    .dataframe thead th {\n",
       "        text-align: right;\n",
       "    }\n",
       "</style>\n",
       "<table border=\"1\" class=\"dataframe\">\n",
       "  <thead>\n",
       "    <tr style=\"text-align: right;\">\n",
       "      <th></th>\n",
       "      <th>%_nulos</th>\n",
       "    </tr>\n",
       "  </thead>\n",
       "  <tbody>\n",
       "    <tr>\n",
       "      <th>salary</th>\n",
       "      <td>25.326927</td>\n",
       "    </tr>\n",
       "    <tr>\n",
       "      <th>cancellation_year</th>\n",
       "      <td>87.703091</td>\n",
       "    </tr>\n",
       "    <tr>\n",
       "      <th>cancellation_month</th>\n",
       "      <td>87.703091</td>\n",
       "    </tr>\n",
       "  </tbody>\n",
       "</table>\n",
       "</div>"
      ],
      "text/plain": [
       "                      %_nulos\n",
       "salary              25.326927\n",
       "cancellation_year   87.703091\n",
       "cancellation_month  87.703091"
      ]
     },
     "execution_count": 127,
     "metadata": {},
     "output_type": "execute_result"
    }
   ],
   "source": [
    "nulos=['salary', 'cancellation_year', 'cancellation_month']\n",
    "\n",
    "df_nulos_numerico= pd.DataFrame((df_cust_copy[nulos].isnull().sum() / df_cust_copy[nulos].shape[0]) * 100, columns = [\"%_nulos\"])\n",
    "df_nulos_numerico"
   ]
  },
  {
   "cell_type": "markdown",
   "metadata": {},
   "source": [
    "- **Salary**"
   ]
  },
  {
   "cell_type": "code",
   "execution_count": 129,
   "metadata": {},
   "outputs": [
    {
     "data": {
      "text/plain": [
       "<Axes: xlabel='salary'>"
      ]
     },
     "execution_count": 129,
     "metadata": {},
     "output_type": "execute_result"
    },
    {
     "data": {
      "image/png": "[encoded data removed]",
      "text/plain": [
       "<Figure size 640x480 with 1 Axes>"
      ]
     },
     "metadata": {},
     "output_type": "display_data"
    }
   ],
   "source": [
    "\n",
    "sns.boxplot(x=\"salary\",\n",
    "            data=df_cust_copy,\n",
    "            width=0.8,\n",
    "            color=\"turquoise\")"
   ]
  },
  {
   "cell_type": "code",
   "execution_count": 132,
   "metadata": {},
   "outputs": [
    {
     "data": {
      "text/plain": [
       "array([[92552.        ],\n",
       "       [79371.73290216],\n",
       "       [79371.73290216],\n",
       "       ...,\n",
       "       [47670.        ],\n",
       "       [79371.73290216],\n",
       "       [46594.        ]])"
      ]
     },
     "execution_count": 132,
     "metadata": {},
     "output_type": "execute_result"
    }
   ],
   "source": [
    "#Tenemos demasiado outliers por lo que se gestionarán los nulos utilizando Iterative imputer\n",
    "\n",
    "# Instanciar la clase de InterativeImputer\n",
    "imputar_salary = IterativeImputer(max_iter = 20, random_state = 42)\n",
    "\n",
    "# Ajustar y tranformar los datos\n",
    "salary_limpio = imputar_salary.fit_transform(df_cust_copy[[\"salary\"]])\n",
    "salary_limpio"
   ]
  },
  {
   "cell_type": "code",
   "execution_count": 136,
   "metadata": {},
   "outputs": [],
   "source": [
    "df_cust_copy[\"salary\"] = salary_limpio.round(2)"
   ]
  },
  {
   "cell_type": "code",
   "execution_count": 138,
   "metadata": {},
   "outputs": [
    {
     "name": "stdout",
     "output_type": "stream",
     "text": [
      "Después del 'IterativeImputer' tenemos 0 nulos\n"
     ]
    }
   ],
   "source": [
    "# Comprobar los nulos. \n",
    "print(f\"Después del 'IterativeImputer' tenemos {df_cust_copy[\"salary\"].isnull().sum()} nulos\")"
   ]
  },
  {
   "cell_type": "markdown",
   "metadata": {},
   "source": [
    "Al entenderse que:\n",
    "\n",
    "- Cancellation Year: Año en que el cliente canceló su membresía en el programa\n",
    "de lealtad, si aplica.\n",
    "\n",
    "- Cancellation  Month: Mes en que el cliente canceló su membresía en el programa\n",
    "de lealtad, si aplica.\n",
    "\n",
    "Se entiende que el 'si aplica' indica que aquellos que están como nulos es porque no han cancelado su membresía. Al tratarse de un porcentaje significativo casi el 87% de los datos. Se sugiere corroborar la suposición con el cliente y para el ejercicio práctico se eliminarán dichas columnas, ya que de momento no son relevantes para los análisis."
   ]
  },
  {
   "cell_type": "code",
   "execution_count": 140,
   "metadata": {},
   "outputs": [],
   "source": [
    "columnas_eliminar= [\"cancellation_month\",\"cancellation_year\"]\n",
    "df_cust_copy = df_cust_copy.drop(columnas_eliminar, axis=1)"
   ]
  },
  {
   "cell_type": "code",
   "execution_count": 142,
   "metadata": {},
   "outputs": [
    {
     "data": {
      "text/html": [
       "<div>\n",
       "<style scoped>\n",
       "    .dataframe tbody tr th:only-of-type {\n",
       "        vertical-align: middle;\n",
       "    }\n",
       "\n",
       "    .dataframe tbody tr th {\n",
       "        vertical-align: top;\n",
       "    }\n",
       "\n",
       "    .dataframe thead th {\n",
       "        text-align: right;\n",
       "    }\n",
       "</style>\n",
       "<table border=\"1\" class=\"dataframe\">\n",
       "  <thead>\n",
       "    <tr style=\"text-align: right;\">\n",
       "      <th></th>\n",
       "      <th>loyalty_number</th>\n",
       "      <th>year</th>\n",
       "      <th>month</th>\n",
       "      <th>flights_booked</th>\n",
       "      <th>flights_with_companions</th>\n",
       "      <th>total_flights</th>\n",
       "      <th>distance</th>\n",
       "      <th>points_accumulated</th>\n",
       "      <th>points_redeemed</th>\n",
       "      <th>dollar_cost_points_redeemed</th>\n",
       "      <th>country</th>\n",
       "      <th>province</th>\n",
       "      <th>city</th>\n",
       "      <th>postal_code</th>\n",
       "      <th>gender</th>\n",
       "      <th>education</th>\n",
       "      <th>salary</th>\n",
       "      <th>marital_status</th>\n",
       "      <th>loyalty_card</th>\n",
       "      <th>clv</th>\n",
       "      <th>enrollment_type</th>\n",
       "      <th>enrollment_year</th>\n",
       "      <th>enrollment_month</th>\n",
       "    </tr>\n",
       "  </thead>\n",
       "  <tbody>\n",
       "    <tr>\n",
       "      <th>171365</th>\n",
       "      <td>274410</td>\n",
       "      <td>2017</td>\n",
       "      <td>11</td>\n",
       "      <td>3</td>\n",
       "      <td>0</td>\n",
       "      <td>3</td>\n",
       "      <td>897</td>\n",
       "      <td>89.0</td>\n",
       "      <td>0</td>\n",
       "      <td>0</td>\n",
       "      <td>Canada</td>\n",
       "      <td>Quebec</td>\n",
       "      <td>Montreal</td>\n",
       "      <td>H2Y 4R4</td>\n",
       "      <td>Male</td>\n",
       "      <td>Master</td>\n",
       "      <td>82940.00</td>\n",
       "      <td>Married</td>\n",
       "      <td>Star</td>\n",
       "      <td>2719.51</td>\n",
       "      <td>Standard</td>\n",
       "      <td>2017</td>\n",
       "      <td>9</td>\n",
       "    </tr>\n",
       "    <tr>\n",
       "      <th>148685</th>\n",
       "      <td>441345</td>\n",
       "      <td>2018</td>\n",
       "      <td>5</td>\n",
       "      <td>0</td>\n",
       "      <td>0</td>\n",
       "      <td>0</td>\n",
       "      <td>0</td>\n",
       "      <td>0.0</td>\n",
       "      <td>0</td>\n",
       "      <td>0</td>\n",
       "      <td>Canada</td>\n",
       "      <td>Ontario</td>\n",
       "      <td>Toronto</td>\n",
       "      <td>M1R 4K3</td>\n",
       "      <td>Male</td>\n",
       "      <td>College</td>\n",
       "      <td>79371.73</td>\n",
       "      <td>Single</td>\n",
       "      <td>Nova</td>\n",
       "      <td>9402.73</td>\n",
       "      <td>Promotion</td>\n",
       "      <td>2018</td>\n",
       "      <td>3</td>\n",
       "    </tr>\n",
       "    <tr>\n",
       "      <th>121654</th>\n",
       "      <td>314705</td>\n",
       "      <td>2017</td>\n",
       "      <td>8</td>\n",
       "      <td>0</td>\n",
       "      <td>0</td>\n",
       "      <td>0</td>\n",
       "      <td>0</td>\n",
       "      <td>0.0</td>\n",
       "      <td>0</td>\n",
       "      <td>0</td>\n",
       "      <td>Canada</td>\n",
       "      <td>British Columbia</td>\n",
       "      <td>Vancouver</td>\n",
       "      <td>V1E 4R6</td>\n",
       "      <td>Male</td>\n",
       "      <td>Bachelor</td>\n",
       "      <td>50723.00</td>\n",
       "      <td>Married</td>\n",
       "      <td>Nova</td>\n",
       "      <td>5319.84</td>\n",
       "      <td>Promotion</td>\n",
       "      <td>2018</td>\n",
       "      <td>4</td>\n",
       "    </tr>\n",
       "    <tr>\n",
       "      <th>57922</th>\n",
       "      <td>502784</td>\n",
       "      <td>2017</td>\n",
       "      <td>4</td>\n",
       "      <td>0</td>\n",
       "      <td>0</td>\n",
       "      <td>0</td>\n",
       "      <td>0</td>\n",
       "      <td>0.0</td>\n",
       "      <td>0</td>\n",
       "      <td>0</td>\n",
       "      <td>Canada</td>\n",
       "      <td>British Columbia</td>\n",
       "      <td>Victoria</td>\n",
       "      <td>V10 6T5</td>\n",
       "      <td>Male</td>\n",
       "      <td>Bachelor</td>\n",
       "      <td>85038.00</td>\n",
       "      <td>Married</td>\n",
       "      <td>Nova</td>\n",
       "      <td>6521.37</td>\n",
       "      <td>Standard</td>\n",
       "      <td>2018</td>\n",
       "      <td>8</td>\n",
       "    </tr>\n",
       "    <tr>\n",
       "      <th>355121</th>\n",
       "      <td>201709</td>\n",
       "      <td>2018</td>\n",
       "      <td>10</td>\n",
       "      <td>8</td>\n",
       "      <td>0</td>\n",
       "      <td>8</td>\n",
       "      <td>1464</td>\n",
       "      <td>146.0</td>\n",
       "      <td>0</td>\n",
       "      <td>0</td>\n",
       "      <td>Canada</td>\n",
       "      <td>British Columbia</td>\n",
       "      <td>Vancouver</td>\n",
       "      <td>V6E 3D9</td>\n",
       "      <td>Male</td>\n",
       "      <td>College</td>\n",
       "      <td>79371.73</td>\n",
       "      <td>Married</td>\n",
       "      <td>Aurora</td>\n",
       "      <td>7591.11</td>\n",
       "      <td>Standard</td>\n",
       "      <td>2013</td>\n",
       "      <td>11</td>\n",
       "    </tr>\n",
       "  </tbody>\n",
       "</table>\n",
       "</div>"
      ],
      "text/plain": [
       "        loyalty_number  year  month  flights_booked  flights_with_companions  \\\n",
       "171365          274410  2017     11               3                        0   \n",
       "148685          441345  2018      5               0                        0   \n",
       "121654          314705  2017      8               0                        0   \n",
       "57922           502784  2017      4               0                        0   \n",
       "355121          201709  2018     10               8                        0   \n",
       "\n",
       "        total_flights  distance  points_accumulated  points_redeemed  \\\n",
       "171365              3       897                89.0                0   \n",
       "148685              0         0                 0.0                0   \n",
       "121654              0         0                 0.0                0   \n",
       "57922               0         0                 0.0                0   \n",
       "355121              8      1464               146.0                0   \n",
       "\n",
       "        dollar_cost_points_redeemed country          province       city  \\\n",
       "171365                            0  Canada            Quebec   Montreal   \n",
       "148685                            0  Canada           Ontario    Toronto   \n",
       "121654                            0  Canada  British Columbia  Vancouver   \n",
       "57922                             0  Canada  British Columbia   Victoria   \n",
       "355121                            0  Canada  British Columbia  Vancouver   \n",
       "\n",
       "       postal_code gender education    salary marital_status loyalty_card  \\\n",
       "171365     H2Y 4R4   Male    Master  82940.00        Married         Star   \n",
       "148685     M1R 4K3   Male   College  79371.73         Single         Nova   \n",
       "121654     V1E 4R6   Male  Bachelor  50723.00        Married         Nova   \n",
       "57922      V10 6T5   Male  Bachelor  85038.00        Married         Nova   \n",
       "355121     V6E 3D9   Male   College  79371.73        Married       Aurora   \n",
       "\n",
       "            clv enrollment_type  enrollment_year  enrollment_month  \n",
       "171365  2719.51        Standard             2017                 9  \n",
       "148685  9402.73       Promotion             2018                 3  \n",
       "121654  5319.84       Promotion             2018                 4  \n",
       "57922   6521.37        Standard             2018                 8  \n",
       "355121  7591.11        Standard             2013                11  "
      ]
     },
     "execution_count": 142,
     "metadata": {},
     "output_type": "execute_result"
    }
   ],
   "source": [
    "\n",
    "df_cust_copy.sample(5)"
   ]
  },
  {
   "cell_type": "code",
   "execution_count": 143,
   "metadata": {},
   "outputs": [
    {
     "name": "stdout",
     "output_type": "stream",
     "text": [
      "<class 'pandas.core.frame.DataFrame'>\n",
      "RangeIndex: 403760 entries, 0 to 403759\n",
      "Data columns (total 23 columns):\n",
      " #   Column                       Non-Null Count   Dtype  \n",
      "---  ------                       --------------   -----  \n",
      " 0   loyalty_number               403760 non-null  int64  \n",
      " 1   year                         403760 non-null  int64  \n",
      " 2   month                        403760 non-null  int64  \n",
      " 3   flights_booked               403760 non-null  int64  \n",
      " 4   flights_with_companions      403760 non-null  int64  \n",
      " 5   total_flights                403760 non-null  int64  \n",
      " 6   distance                     403760 non-null  int64  \n",
      " 7   points_accumulated           403760 non-null  float64\n",
      " 8   points_redeemed              403760 non-null  int64  \n",
      " 9   dollar_cost_points_redeemed  403760 non-null  int64  \n",
      " 10  country                      403760 non-null  object \n",
      " 11  province                     403760 non-null  object \n",
      " 12  city                         403760 non-null  object \n",
      " 13  postal_code                  403760 non-null  object \n",
      " 14  gender                       403760 non-null  object \n",
      " 15  education                    403760 non-null  object \n",
      " 16  salary                       403760 non-null  float64\n",
      " 17  marital_status               403760 non-null  object \n",
      " 18  loyalty_card                 403760 non-null  object \n",
      " 19  clv                          403760 non-null  float64\n",
      " 20  enrollment_type              403760 non-null  object \n",
      " 21  enrollment_year              403760 non-null  int64  \n",
      " 22  enrollment_month             403760 non-null  int64  \n",
      "dtypes: float64(3), int64(11), object(9)\n",
      "memory usage: 70.9+ MB\n"
     ]
    }
   ],
   "source": [
    "df_cust_copy.info()"
   ]
  },
  {
   "cell_type": "code",
   "execution_count": 144,
   "metadata": {},
   "outputs": [
    {
     "data": {
      "text/plain": [
       "0"
      ]
     },
     "execution_count": 144,
     "metadata": {},
     "output_type": "execute_result"
    }
   ],
   "source": [
    "df_cust_copy.duplicated().sum()"
   ]
  },
  {
   "cell_type": "code",
   "execution_count": 145,
   "metadata": {},
   "outputs": [],
   "source": [
    "df_cust_copy.to_csv('customer_limpio.csv', index= False)"
   ]
  }
 ],
 "metadata": {
  "kernelspec": {
   "display_name": "base",
   "language": "python",
   "name": "python3"
  },
  "language_info": {
   "codemirror_mode": {
    "name": "ipython",
    "version": 3
   },
   "file_extension": ".py",
   "mimetype": "text/x-python",
   "name": "python",
   "nbconvert_exporter": "python",
   "pygments_lexer": "ipython3",
   "version": "3.12.4"
  }
 },
 "nbformat": 4,
 "nbformat_minor": 2
}
